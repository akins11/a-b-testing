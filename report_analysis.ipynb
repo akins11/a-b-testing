{
 "cells": [
  {
   "cell_type": "markdown",
   "metadata": {},
   "source": [
    "## Content\n",
    "* Packages\n",
    "* Data Import\n",
    "* Data Dictionary\n",
    "* Data Inspection\n",
    "* Data Cleaning\n",
    "* Metrics\n",
    "* Checking for statistical significence (Mean)\n",
    "* Checking for statistical significence (U-test)\n",
    "* Sample (Bootstrap).\n",
    "* Evaluation.\n",
    "* Communication."
   ]
  },
  {
   "cell_type": "markdown",
   "metadata": {},
   "source": [
    "## Packages"
   ]
  },
  {
   "cell_type": "code",
   "execution_count": 1,
   "metadata": {},
   "outputs": [],
   "source": [
    "import numpy as np\n",
    "import pandas as pd\n",
    "\n",
    "import scipy.stats as stats\n",
    "from scipy.stats import shapiro\n",
    "\n",
    "# import statsmodels.stats.api as sms\n",
    "# from statsmodels.stats.proportion import proportions_ztest, proportion_confint\n",
    "\n",
    "import plotnine as g"
   ]
  },
  {
   "cell_type": "code",
   "execution_count": 2,
   "metadata": {},
   "outputs": [],
   "source": [
    "import warnings\n",
    "\n",
    "warnings.filterwarnings(\"ignore\")"
   ]
  },
  {
   "cell_type": "markdown",
   "metadata": {},
   "source": [
    "## Data Import"
   ]
  },
  {
   "cell_type": "code",
   "execution_count": 3,
   "metadata": {},
   "outputs": [],
   "source": [
    "df = pd.read_csv(\"data/marketing_AB.csv\")"
   ]
  },
  {
   "cell_type": "markdown",
   "metadata": {},
   "source": [
    "## Data Dictionary"
   ]
  },
  {
   "cell_type": "markdown",
   "metadata": {},
   "source": [
    "- Index: Row index\n",
    "- user id: Unique user id\n",
    "- test group: if 'ad' person saw the advertisement, if 'psa' they saw a public service announcement (PSA).\n",
    "- converted: if a person bought the product then True, else False.\n",
    "- total ads: The number of Ads/PSA seen by users.\n",
    "- most ads day: The day that the user saw the highest number of Ads/PSA.\n",
    "- most ads hour: Hour of the day that the user saw the highest amount of Ads/PSA."
   ]
  },
  {
   "cell_type": "markdown",
   "metadata": {},
   "source": [
    "## Data Inspection"
   ]
  },
  {
   "cell_type": "code",
   "execution_count": 5,
   "metadata": {},
   "outputs": [
    {
     "data": {
      "text/html": [
       "<div>\n",
       "<style scoped>\n",
       "    .dataframe tbody tr th:only-of-type {\n",
       "        vertical-align: middle;\n",
       "    }\n",
       "\n",
       "    .dataframe tbody tr th {\n",
       "        vertical-align: top;\n",
       "    }\n",
       "\n",
       "    .dataframe thead th {\n",
       "        text-align: right;\n",
       "    }\n",
       "</style>\n",
       "<table border=\"1\" class=\"dataframe\">\n",
       "  <thead>\n",
       "    <tr style=\"text-align: right;\">\n",
       "      <th></th>\n",
       "      <th>Unnamed: 0</th>\n",
       "      <th>user id</th>\n",
       "      <th>test group</th>\n",
       "      <th>converted</th>\n",
       "      <th>total ads</th>\n",
       "      <th>most ads day</th>\n",
       "      <th>most ads hour</th>\n",
       "    </tr>\n",
       "  </thead>\n",
       "  <tbody>\n",
       "    <tr>\n",
       "      <th>0</th>\n",
       "      <td>0</td>\n",
       "      <td>1069124</td>\n",
       "      <td>ad</td>\n",
       "      <td>False</td>\n",
       "      <td>130</td>\n",
       "      <td>Monday</td>\n",
       "      <td>20</td>\n",
       "    </tr>\n",
       "    <tr>\n",
       "      <th>1</th>\n",
       "      <td>1</td>\n",
       "      <td>1119715</td>\n",
       "      <td>ad</td>\n",
       "      <td>False</td>\n",
       "      <td>93</td>\n",
       "      <td>Tuesday</td>\n",
       "      <td>22</td>\n",
       "    </tr>\n",
       "    <tr>\n",
       "      <th>2</th>\n",
       "      <td>2</td>\n",
       "      <td>1144181</td>\n",
       "      <td>ad</td>\n",
       "      <td>False</td>\n",
       "      <td>21</td>\n",
       "      <td>Tuesday</td>\n",
       "      <td>18</td>\n",
       "    </tr>\n",
       "  </tbody>\n",
       "</table>\n",
       "</div>"
      ],
      "text/plain": [
       "   Unnamed: 0  user id test group  converted  total ads most ads day  \\\n",
       "0           0  1069124         ad      False        130       Monday   \n",
       "1           1  1119715         ad      False         93      Tuesday   \n",
       "2           2  1144181         ad      False         21      Tuesday   \n",
       "\n",
       "   most ads hour  \n",
       "0             20  \n",
       "1             22  \n",
       "2             18  "
      ]
     },
     "execution_count": 5,
     "metadata": {},
     "output_type": "execute_result"
    }
   ],
   "source": [
    "df.head(3)"
   ]
  },
  {
   "cell_type": "code",
   "execution_count": 6,
   "metadata": {},
   "outputs": [
    {
     "name": "stdout",
     "output_type": "stream",
     "text": [
      "<class 'pandas.core.frame.DataFrame'>\n",
      "RangeIndex: 588101 entries, 0 to 588100\n",
      "Data columns (total 7 columns):\n",
      " #   Column         Non-Null Count   Dtype \n",
      "---  ------         --------------   ----- \n",
      " 0   Unnamed: 0     588101 non-null  int64 \n",
      " 1   user id        588101 non-null  int64 \n",
      " 2   test group     588101 non-null  object\n",
      " 3   converted      588101 non-null  bool  \n",
      " 4   total ads      588101 non-null  int64 \n",
      " 5   most ads day   588101 non-null  object\n",
      " 6   most ads hour  588101 non-null  int64 \n",
      "dtypes: bool(1), int64(4), object(2)\n",
      "memory usage: 27.5+ MB\n"
     ]
    }
   ],
   "source": [
    "df.info()"
   ]
  },
  {
   "cell_type": "markdown",
   "metadata": {},
   "source": [
    "* There are 588,101 records and 7 variables.\n",
    "* No missing value detected."
   ]
  },
  {
   "cell_type": "markdown",
   "metadata": {},
   "source": [
    "#### Numeric summary"
   ]
  },
  {
   "cell_type": "code",
   "execution_count": 9,
   "metadata": {},
   "outputs": [
    {
     "data": {
      "text/html": [
       "<div>\n",
       "<style scoped>\n",
       "    .dataframe tbody tr th:only-of-type {\n",
       "        vertical-align: middle;\n",
       "    }\n",
       "\n",
       "    .dataframe tbody tr th {\n",
       "        vertical-align: top;\n",
       "    }\n",
       "\n",
       "    .dataframe thead th {\n",
       "        text-align: right;\n",
       "    }\n",
       "</style>\n",
       "<table border=\"1\" class=\"dataframe\">\n",
       "  <thead>\n",
       "    <tr style=\"text-align: right;\">\n",
       "      <th></th>\n",
       "      <th>total ads</th>\n",
       "      <th>most ads hour</th>\n",
       "    </tr>\n",
       "  </thead>\n",
       "  <tbody>\n",
       "    <tr>\n",
       "      <th>count</th>\n",
       "      <td>588101.000000</td>\n",
       "      <td>588101.000000</td>\n",
       "    </tr>\n",
       "    <tr>\n",
       "      <th>mean</th>\n",
       "      <td>24.820876</td>\n",
       "      <td>14.469061</td>\n",
       "    </tr>\n",
       "    <tr>\n",
       "      <th>std</th>\n",
       "      <td>43.715181</td>\n",
       "      <td>4.834634</td>\n",
       "    </tr>\n",
       "    <tr>\n",
       "      <th>min</th>\n",
       "      <td>1.000000</td>\n",
       "      <td>0.000000</td>\n",
       "    </tr>\n",
       "    <tr>\n",
       "      <th>25%</th>\n",
       "      <td>4.000000</td>\n",
       "      <td>11.000000</td>\n",
       "    </tr>\n",
       "    <tr>\n",
       "      <th>50%</th>\n",
       "      <td>13.000000</td>\n",
       "      <td>14.000000</td>\n",
       "    </tr>\n",
       "    <tr>\n",
       "      <th>75%</th>\n",
       "      <td>27.000000</td>\n",
       "      <td>18.000000</td>\n",
       "    </tr>\n",
       "    <tr>\n",
       "      <th>max</th>\n",
       "      <td>2065.000000</td>\n",
       "      <td>23.000000</td>\n",
       "    </tr>\n",
       "  </tbody>\n",
       "</table>\n",
       "</div>"
      ],
      "text/plain": [
       "           total ads  most ads hour\n",
       "count  588101.000000  588101.000000\n",
       "mean       24.820876      14.469061\n",
       "std        43.715181       4.834634\n",
       "min         1.000000       0.000000\n",
       "25%         4.000000      11.000000\n",
       "50%        13.000000      14.000000\n",
       "75%        27.000000      18.000000\n",
       "max      2065.000000      23.000000"
      ]
     },
     "execution_count": 9,
     "metadata": {},
     "output_type": "execute_result"
    }
   ],
   "source": [
    "df.select_dtypes(\"int64\").describe()[[\"total ads\", \"most ads hour\"]]"
   ]
  },
  {
   "cell_type": "markdown",
   "metadata": {},
   "source": [
    "**`Edit`**\n",
    "* There is a huge outlier in the total ads/psa column. A maximum number of views of 2,065 compared to 75% of total ads views less than 27 times."
   ]
  },
  {
   "cell_type": "markdown",
   "metadata": {},
   "source": [
    "#### Categorical summary"
   ]
  },
  {
   "cell_type": "code",
   "execution_count": 11,
   "metadata": {},
   "outputs": [
    {
     "name": "stdout",
     "output_type": "stream",
     "text": [
      "\n",
      "test group\n",
      "--------------------------------------------------\n",
      "Unique values\n",
      "['ad' 'psa']\n",
      "\n",
      "most ads day\n",
      "--------------------------------------------------\n",
      "Unique values\n",
      "['Monday' 'Tuesday' 'Friday' 'Saturday' 'Wednesday' 'Sunday' 'Thursday']\n",
      "\n",
      "converted\n",
      "--------------------------------------------------\n",
      "Unique values\n",
      "[False  True]\n"
     ]
    }
   ],
   "source": [
    "for col in [\"test group\", \"most ads day\", \"converted\"]:\n",
    "\n",
    "    print(f\"\\n{col}\")\n",
    "    print(\"-\"*50)\n",
    "    print(\"Unique values\")\n",
    "    print(df[col].unique())"
   ]
  },
  {
   "cell_type": "markdown",
   "metadata": {},
   "source": [
    "**`Edit`**\n",
    "\n",
    "* The group variable as expected have only two unique values which are `ad` short for Advertisments and psa short for Public Service Annoucement.\n",
    "* Moving on to the `most ads day` column, only days of the week from Sunday to Saturday are inclueded on the column.\n",
    "* Finally, the converted column which is a bool type contain only the two expected variante."
   ]
  },
  {
   "cell_type": "markdown",
   "metadata": {},
   "source": [
    "#### Duplicates records"
   ]
  },
  {
   "cell_type": "code",
   "execution_count": 12,
   "metadata": {},
   "outputs": [
    {
     "data": {
      "text/plain": [
       "False"
      ]
     },
     "execution_count": 12,
     "metadata": {},
     "output_type": "execute_result"
    }
   ],
   "source": [
    "df.duplicated().any()"
   ]
  },
  {
   "cell_type": "code",
   "execution_count": 14,
   "metadata": {},
   "outputs": [
    {
     "data": {
      "text/plain": [
       "True"
      ]
     },
     "execution_count": 14,
     "metadata": {},
     "output_type": "execute_result"
    }
   ],
   "source": [
    "df[\"user id\"].nunique() == df.shape[0]"
   ]
  },
  {
   "cell_type": "markdown",
   "metadata": {},
   "source": [
    "* No `duplicate` record and user"
   ]
  },
  {
   "cell_type": "markdown",
   "metadata": {},
   "source": [
    "## Data Cleaning"
   ]
  },
  {
   "cell_type": "markdown",
   "metadata": {},
   "source": [
    "#### Drop duplicated index column"
   ]
  },
  {
   "cell_type": "code",
   "execution_count": 4,
   "metadata": {},
   "outputs": [
    {
     "data": {
      "text/plain": [
       "Index(['user id', 'test group', 'converted', 'total ads', 'most ads day',\n",
       "       'most ads hour'],\n",
       "      dtype='object')"
      ]
     },
     "execution_count": 4,
     "metadata": {},
     "output_type": "execute_result"
    }
   ],
   "source": [
    "df = df.drop([\"Unnamed: 0\"], axis=1)\n",
    "\n",
    "df.columns"
   ]
  },
  {
   "cell_type": "markdown",
   "metadata": {},
   "source": [
    "#### Change the `converted` column to binary [0, 1]"
   ]
  },
  {
   "cell_type": "code",
   "execution_count": 6,
   "metadata": {},
   "outputs": [
    {
     "data": {
      "text/plain": [
       "array([0, 1], dtype=int64)"
      ]
     },
     "execution_count": 6,
     "metadata": {},
     "output_type": "execute_result"
    }
   ],
   "source": [
    "df[\"converted\"] = df[\"converted\"].apply(lambda x: 1 if x == True else 0)\n",
    "\n",
    "df[\"converted\"].unique()"
   ]
  },
  {
   "cell_type": "markdown",
   "metadata": {},
   "source": [
    "#### Change the `most ads day` column to an ordered category"
   ]
  },
  {
   "cell_type": "code",
   "execution_count": 7,
   "metadata": {},
   "outputs": [
    {
     "data": {
      "text/plain": [
       "['Monday', 'Tuesday', 'Friday', 'Saturday', 'Wednesday', 'Sunday', 'Thursday']\n",
       "Categories (7, object): ['Sunday' < 'Monday' < 'Tuesday' < 'Wednesday' < 'Thursday' < 'Friday' < 'Saturday']"
      ]
     },
     "execution_count": 7,
     "metadata": {},
     "output_type": "execute_result"
    }
   ],
   "source": [
    "df[\"most ads day\"] = df[\"most ads day\"].astype(\"category\")\n",
    "\n",
    "ordered_days = [\"Sunday\", \"Monday\", \"Tuesday\", \"Wednesday\", \"Thursday\", \"Friday\", \"Saturday\"]\n",
    "\n",
    "df[\"most ads day\"] = df[\"most ads day\"].cat.reorder_categories(ordered_days, ordered = True)\n",
    "\n",
    "df[\"most ads day\"].unique()"
   ]
  },
  {
   "cell_type": "markdown",
   "metadata": {},
   "source": [
    "#### Clean & Rename columns"
   ]
  },
  {
   "cell_type": "code",
   "execution_count": 8,
   "metadata": {},
   "outputs": [
    {
     "data": {
      "text/plain": [
       "Index(['user_id', 'group', 'converted', 'total_views', 'most_views_day',\n",
       "       'most_views_hour'],\n",
       "      dtype='object')"
      ]
     },
     "execution_count": 8,
     "metadata": {},
     "output_type": "execute_result"
    }
   ],
   "source": [
    "df = df.rename(columns=lambda c: c.strip().replace(\" \", \"_\"))\n",
    "\n",
    "df = df.rename(\n",
    "    columns={\n",
    "        \"test_group\": \"group\", \n",
    "        \"total_ads\": \"total_views\", \n",
    "        \"most_ads_day\": \"most_views_day\", \n",
    "        \"most_ads_hour\": \"most_views_hour\"\n",
    "    }\n",
    ")\n",
    "\n",
    "df.columns"
   ]
  },
  {
   "cell_type": "markdown",
   "metadata": {},
   "source": [
    "## Metrics"
   ]
  },
  {
   "cell_type": "markdown",
   "metadata": {},
   "source": [
    "#### The total number of users involved in the experiment"
   ]
  },
  {
   "cell_type": "code",
   "execution_count": 24,
   "metadata": {},
   "outputs": [
    {
     "data": {
      "text/plain": [
       "'588,101'"
      ]
     },
     "execution_count": 24,
     "metadata": {},
     "output_type": "execute_result"
    }
   ],
   "source": [
    "f\"{df['user_id'].nunique():,}\""
   ]
  },
  {
   "cell_type": "markdown",
   "metadata": {},
   "source": [
    "A substantial pool of unique platform users, totaling `588,101`, was randomly selected to participate in the experiment. This sizeable user base provides ample data to assess the effectiveness of the ads effectively."
   ]
  },
  {
   "cell_type": "markdown",
   "metadata": {},
   "source": [
    "#### The number of users in the test and control group"
   ]
  },
  {
   "cell_type": "code",
   "execution_count": 25,
   "metadata": {},
   "outputs": [
    {
     "data": {
      "text/html": [
       "<div>\n",
       "<style scoped>\n",
       "    .dataframe tbody tr th:only-of-type {\n",
       "        vertical-align: middle;\n",
       "    }\n",
       "\n",
       "    .dataframe tbody tr th {\n",
       "        vertical-align: top;\n",
       "    }\n",
       "\n",
       "    .dataframe thead th {\n",
       "        text-align: right;\n",
       "    }\n",
       "</style>\n",
       "<table border=\"1\" class=\"dataframe\">\n",
       "  <thead>\n",
       "    <tr style=\"text-align: right;\">\n",
       "      <th></th>\n",
       "      <th>group</th>\n",
       "      <th>count</th>\n",
       "      <th>percentage</th>\n",
       "    </tr>\n",
       "  </thead>\n",
       "  <tbody>\n",
       "    <tr>\n",
       "      <th>0</th>\n",
       "      <td>Ads</td>\n",
       "      <td>564577</td>\n",
       "      <td>96.0</td>\n",
       "    </tr>\n",
       "    <tr>\n",
       "      <th>1</th>\n",
       "      <td>PSA</td>\n",
       "      <td>23524</td>\n",
       "      <td>4.0</td>\n",
       "    </tr>\n",
       "  </tbody>\n",
       "</table>\n",
       "</div>"
      ],
      "text/plain": [
       "  group   count  percentage\n",
       "0   Ads  564577        96.0\n",
       "1   PSA   23524         4.0"
      ]
     },
     "execution_count": 25,
     "metadata": {},
     "output_type": "execute_result"
    }
   ],
   "source": [
    "temp = (\n",
    "    c_df[\"group\"]\n",
    "        .value_counts()\n",
    "        .reset_index()\n",
    "        .assign(percentage = lambda _: round((_[\"count\"] / _[\"count\"].sum())*100, 3) )\n",
    ")\n",
    "\n",
    "temp"
   ]
  },
  {
   "cell_type": "markdown",
   "metadata": {},
   "source": [
    "Around 96% of the total user base involved in the experiment, totaling 564,577 users, had the opportunity to view the ads at least once. Conversely, a smaller subset, comprising approximately 4% or 23,524 users, did not encounter any ads but were instead presented with a public service announcement."
   ]
  },
  {
   "cell_type": "markdown",
   "metadata": {},
   "source": [
    "#### Conversion"
   ]
  },
  {
   "cell_type": "markdown",
   "metadata": {},
   "source": [
    "The total number of users who participated in the experiment and completed a purchase, regardless of their exposure to the ads, constitutes the conversion count."
   ]
  },
  {
   "cell_type": "code",
   "execution_count": 21,
   "metadata": {},
   "outputs": [
    {
     "data": {
      "text/html": [
       "<div>\n",
       "<style scoped>\n",
       "    .dataframe tbody tr th:only-of-type {\n",
       "        vertical-align: middle;\n",
       "    }\n",
       "\n",
       "    .dataframe tbody tr th {\n",
       "        vertical-align: top;\n",
       "    }\n",
       "\n",
       "    .dataframe thead th {\n",
       "        text-align: right;\n",
       "    }\n",
       "</style>\n",
       "<table border=\"1\" class=\"dataframe\">\n",
       "  <thead>\n",
       "    <tr style=\"text-align: right;\">\n",
       "      <th></th>\n",
       "      <th>converted</th>\n",
       "      <th>count</th>\n",
       "      <th>percentage</th>\n",
       "    </tr>\n",
       "  </thead>\n",
       "  <tbody>\n",
       "    <tr>\n",
       "      <th>0</th>\n",
       "      <td>No</td>\n",
       "      <td>573258</td>\n",
       "      <td>97.48</td>\n",
       "    </tr>\n",
       "    <tr>\n",
       "      <th>1</th>\n",
       "      <td>Yes</td>\n",
       "      <td>14843</td>\n",
       "      <td>2.52</td>\n",
       "    </tr>\n",
       "  </tbody>\n",
       "</table>\n",
       "</div>"
      ],
      "text/plain": [
       "  converted   count  percentage\n",
       "0        No  573258       97.48\n",
       "1       Yes   14843        2.52"
      ]
     },
     "execution_count": 21,
     "metadata": {},
     "output_type": "execute_result"
    }
   ],
   "source": [
    "temp = (\n",
    "    c_df[\"converted\"]\n",
    "     .value_counts()\n",
    "     .reset_index()\n",
    "     .assign(percentage = lambda _: round((_[\"count\"] / _[\"count\"].sum())* 100, 2))\n",
    ")\n",
    "\n",
    "temp"
   ]
  },
  {
   "cell_type": "markdown",
   "metadata": {},
   "source": [
    "A total of 14,843 users, equivalent to 2.52%, successfully converted, indicating that approximately 97.48% of users did not make a purchase during the experiment."
   ]
  },
  {
   "cell_type": "markdown",
   "metadata": {},
   "source": [
    "#### Total conversion rates "
   ]
  },
  {
   "cell_type": "code",
   "execution_count": 60,
   "metadata": {},
   "outputs": [
    {
     "data": {
      "text/plain": [
       "2.524"
      ]
     },
     "execution_count": 60,
     "metadata": {},
     "output_type": "execute_result"
    }
   ],
   "source": [
    "round((df[\"converted\"].sum() / df.shape[0]) * 100, 3)"
   ]
  },
  {
   "cell_type": "markdown",
   "metadata": {},
   "source": [
    "The overall conversion rate for users on the platform during the experiment period stands at 2.52%, with the remaining 97.48% of users not making any purchases."
   ]
  },
  {
   "cell_type": "markdown",
   "metadata": {},
   "source": [
    "#### Total number of converted users in the test & control group"
   ]
  },
  {
   "cell_type": "code",
   "execution_count": 26,
   "metadata": {},
   "outputs": [
    {
     "data": {
      "text/html": [
       "<div>\n",
       "<style scoped>\n",
       "    .dataframe tbody tr th:only-of-type {\n",
       "        vertical-align: middle;\n",
       "    }\n",
       "\n",
       "    .dataframe tbody tr th {\n",
       "        vertical-align: top;\n",
       "    }\n",
       "\n",
       "    .dataframe thead th {\n",
       "        text-align: right;\n",
       "    }\n",
       "</style>\n",
       "<table border=\"1\" class=\"dataframe\">\n",
       "  <thead>\n",
       "    <tr style=\"text-align: right;\">\n",
       "      <th></th>\n",
       "      <th>group</th>\n",
       "      <th>converted</th>\n",
       "      <th>count</th>\n",
       "      <th>percentage</th>\n",
       "    </tr>\n",
       "  </thead>\n",
       "  <tbody>\n",
       "    <tr>\n",
       "      <th>0</th>\n",
       "      <td>Ads</td>\n",
       "      <td>No</td>\n",
       "      <td>550154</td>\n",
       "      <td>93.55</td>\n",
       "    </tr>\n",
       "    <tr>\n",
       "      <th>1</th>\n",
       "      <td>Ads</td>\n",
       "      <td>Yes</td>\n",
       "      <td>14423</td>\n",
       "      <td>2.45</td>\n",
       "    </tr>\n",
       "    <tr>\n",
       "      <th>2</th>\n",
       "      <td>PSA</td>\n",
       "      <td>No</td>\n",
       "      <td>23104</td>\n",
       "      <td>3.93</td>\n",
       "    </tr>\n",
       "    <tr>\n",
       "      <th>3</th>\n",
       "      <td>PSA</td>\n",
       "      <td>Yes</td>\n",
       "      <td>420</td>\n",
       "      <td>0.07</td>\n",
       "    </tr>\n",
       "  </tbody>\n",
       "</table>\n",
       "</div>"
      ],
      "text/plain": [
       "  group converted   count  percentage\n",
       "0   Ads        No  550154       93.55\n",
       "1   Ads       Yes   14423        2.45\n",
       "2   PSA        No   23104        3.93\n",
       "3   PSA       Yes     420        0.07"
      ]
     },
     "execution_count": 26,
     "metadata": {},
     "output_type": "execute_result"
    }
   ],
   "source": [
    "temp = (\n",
    "    c_df\n",
    "        .groupby(\"group\")[\"converted\"]\n",
    "        .value_counts()\n",
    "        .reset_index()\n",
    "        .assign(percentage = lambda _: round((_[\"count\"] / _[\"count\"].sum())* 100, 2))\n",
    ")\n",
    "\n",
    "temp"
   ]
  },
  {
   "cell_type": "markdown",
   "metadata": {},
   "source": [
    "We've confirmed that a significant portion of users both viewed the ads and didn't convert, aligning with our previous observation. This trend continues, with approximately 2.45% of users who viewed the ads converting, compared to a mere 0.07% of users who didn't see any ads e.i (they saw a psa)."
   ]
  },
  {
   "cell_type": "markdown",
   "metadata": {},
   "source": [
    "#### The `Average` ads viwed by users (with min and max)"
   ]
  },
  {
   "cell_type": "code",
   "execution_count": 27,
   "metadata": {},
   "outputs": [],
   "source": [
    "ads_df = c_df.query(\"group == 'Ads'\")\n",
    "psa_df = c_df.query(\"group == 'PSA'\")"
   ]
  },
  {
   "cell_type": "code",
   "execution_count": 28,
   "metadata": {},
   "outputs": [],
   "source": [
    "## Removing outlier\n",
    "\n",
    "def outlier(df: pd.DataFrame, var: str):\n",
    "\n",
    "    # calculate the first and third quantiles.\n",
    "    q1 = np.percentile(df[var], 25)\n",
    "    q3 = np.percentile(df[var], 75)\n",
    "\n",
    "    # Calculate the interquartile range (IQR).\n",
    "    iqr = q3 - q1\n",
    "\n",
    "    # Calculate lower and upper bounds for potential outliers.\n",
    "    lower_bound = q1 - 1.5 * iqr\n",
    "    upper_bound = q3 + 1.5 * iqr\n",
    "\n",
    "    return [lower_bound, upper_bound]"
   ]
  },
  {
   "cell_type": "code",
   "execution_count": 29,
   "metadata": {},
   "outputs": [
    {
     "data": {
      "text/plain": [
       "count    564577.000000\n",
       "mean         24.823365\n",
       "std          43.750456\n",
       "min           1.000000\n",
       "25%           4.000000\n",
       "50%          13.000000\n",
       "75%          27.000000\n",
       "max        2065.000000\n",
       "Name: total_views, dtype: float64"
      ]
     },
     "execution_count": 29,
     "metadata": {},
     "output_type": "execute_result"
    }
   ],
   "source": [
    "ads_df[\"total_views\"].describe()"
   ]
  },
  {
   "cell_type": "code",
   "execution_count": 30,
   "metadata": {},
   "outputs": [
    {
     "data": {
      "image/png": "[encoded data removed]",
      "text/plain": [
       "<Figure size 800x500 with 1 Axes>"
      ]
     },
     "metadata": {
      "image/png": {
       "height": 500,
       "width": 800
      },
      "needs_background": "light"
     },
     "output_type": "display_data"
    },
    {
     "data": {
      "text/plain": [
       "<Figure Size: (800 x 500)>"
      ]
     },
     "execution_count": 30,
     "metadata": {},
     "output_type": "execute_result"
    }
   ],
   "source": [
    "(\n",
    "    g.ggplot(ads_df, g.aes(x=\"total_views\")) +\n",
    "    g.geom_histogram(bins=30) +\n",
    "    g.scale_x_continuous(labels = lambda l: [\"{:,.0f}\".format(v) for v in l]) +\n",
    "    g.scale_y_continuous(labels = lambda l: [\"{:,.0f}\".format(v) for v in l]) +\n",
    "    g.labs(x=\"Total Views\", title=\"Distribution of Advertisement Views With Outliers\") +\n",
    "    g.theme_minimal() +\n",
    "    g.theme(figure_size=(8, 5))\n",
    ")"
   ]
  },
  {
   "cell_type": "code",
   "execution_count": 31,
   "metadata": {},
   "outputs": [
    {
     "data": {
      "text/plain": [
       "count    514716.000000\n",
       "mean         15.159799\n",
       "std          14.060326\n",
       "min           1.000000\n",
       "25%           4.000000\n",
       "50%          11.000000\n",
       "75%          22.000000\n",
       "max          61.000000\n",
       "Name: total_views, dtype: float64"
      ]
     },
     "execution_count": 31,
     "metadata": {},
     "output_type": "execute_result"
    }
   ],
   "source": [
    "lower_upper_bound = outlier(ads_df, \"total_views\")\n",
    "\n",
    "temp = ads_df.query(f\"total_views >= {lower_upper_bound[0]} & total_views <= {lower_upper_bound[1]}\")\n",
    "\n",
    "temp[\"total_views\"].describe()"
   ]
  },
  {
   "cell_type": "code",
   "execution_count": 35,
   "metadata": {},
   "outputs": [
    {
     "data": {
      "image/png": "[encoded data removed]",
      "text/plain": [
       "<Figure size 800x500 with 1 Axes>"
      ]
     },
     "metadata": {
      "image/png": {
       "height": 500,
       "width": 800
      },
      "needs_background": "light"
     },
     "output_type": "display_data"
    },
    {
     "data": {
      "text/plain": [
       "<Figure Size: (800 x 500)>"
      ]
     },
     "execution_count": 35,
     "metadata": {},
     "output_type": "execute_result"
    }
   ],
   "source": [
    "(\n",
    "    g.ggplot(temp, g.aes(x=\"total_views\")) +\n",
    "    g.geom_histogram(bins=30) +\n",
    "    g.scale_x_continuous(labels = lambda l: [\"{:,.0f}\".format(v) for v in l]) +\n",
    "    g.scale_y_continuous(labels = lambda l: [\"{:,.0f}\".format(v) for v in l]) +\n",
    "    g.labs(x=\"Total Views\", title=\"Distribution of Advertisement Views Without Outliers\") +\n",
    "    g.theme_minimal() +\n",
    "    g.theme(figure_size=(8, 5))\n",
    ")"
   ]
  },
  {
   "cell_type": "markdown",
   "metadata": {},
   "source": [
    "The distribution of total ad views appears to be right-skewed, indicating that there are more users with fewer ad views than those with higher numbers of ad views. Upon removing outliers (users with over 61 ad views), the distribution of total views becomes clearer. It now exhibits an average of 15 views with a standard deviation of 14, as opposed to the average total view of 25 and a standard deviation of 43.75 when including outliers."
   ]
  },
  {
   "cell_type": "markdown",
   "metadata": {},
   "source": [
    "#### Are users with more Ads/PSA views converting more then those with less add view?"
   ]
  },
  {
   "cell_type": "markdown",
   "metadata": {},
   "source": [
    "By taking the median value of 13 views as a reference point, we categorize views above this threshold as \"high views\" and views below it as \"low views.\""
   ]
  },
  {
   "cell_type": "code",
   "execution_count": 38,
   "metadata": {},
   "outputs": [
    {
     "data": {
      "text/html": [
       "<div>\n",
       "<style scoped>\n",
       "    .dataframe tbody tr th:only-of-type {\n",
       "        vertical-align: middle;\n",
       "    }\n",
       "\n",
       "    .dataframe tbody tr th {\n",
       "        vertical-align: top;\n",
       "    }\n",
       "\n",
       "    .dataframe thead th {\n",
       "        text-align: right;\n",
       "    }\n",
       "</style>\n",
       "<table border=\"1\" class=\"dataframe\">\n",
       "  <thead>\n",
       "    <tr style=\"text-align: right;\">\n",
       "      <th></th>\n",
       "      <th>above_below</th>\n",
       "      <th>count</th>\n",
       "      <th>mean</th>\n",
       "    </tr>\n",
       "  </thead>\n",
       "  <tbody>\n",
       "    <tr>\n",
       "      <th>0</th>\n",
       "      <td>Above</td>\n",
       "      <td>300849</td>\n",
       "      <td>0.0459</td>\n",
       "    </tr>\n",
       "    <tr>\n",
       "      <th>1</th>\n",
       "      <td>Below</td>\n",
       "      <td>287252</td>\n",
       "      <td>0.0036</td>\n",
       "    </tr>\n",
       "  </tbody>\n",
       "</table>\n",
       "</div>"
      ],
      "text/plain": [
       "  above_below   count    mean\n",
       "0       Above  300849  0.0459\n",
       "1       Below  287252  0.0036"
      ]
     },
     "execution_count": 38,
     "metadata": {},
     "output_type": "execute_result"
    }
   ],
   "source": [
    "(\n",
    "    df\n",
    "        .assign(above_below = np.where(df[\"total_views\"] >= 13, \"Above\", \"Below\"))\n",
    "        .groupby(\"above_below\")\n",
    "        [\"converted\"].agg([\"count\", \"mean\"])\n",
    "        .round(4)\n",
    "        .reset_index()\n",
    ")"
   ]
  },
  {
   "cell_type": "markdown",
   "metadata": {},
   "source": [
    "##### Ads views"
   ]
  },
  {
   "cell_type": "code",
   "execution_count": 40,
   "metadata": {},
   "outputs": [
    {
     "data": {
      "text/html": [
       "<div>\n",
       "<style scoped>\n",
       "    .dataframe tbody tr th:only-of-type {\n",
       "        vertical-align: middle;\n",
       "    }\n",
       "\n",
       "    .dataframe tbody tr th {\n",
       "        vertical-align: top;\n",
       "    }\n",
       "\n",
       "    .dataframe thead th {\n",
       "        text-align: right;\n",
       "    }\n",
       "</style>\n",
       "<table border=\"1\" class=\"dataframe\">\n",
       "  <thead>\n",
       "    <tr style=\"text-align: right;\">\n",
       "      <th></th>\n",
       "      <th>above_below</th>\n",
       "      <th>total_converted</th>\n",
       "      <th>num_users</th>\n",
       "      <th>conversion_rate</th>\n",
       "    </tr>\n",
       "  </thead>\n",
       "  <tbody>\n",
       "    <tr>\n",
       "      <th>0</th>\n",
       "      <td>Above</td>\n",
       "      <td>13344</td>\n",
       "      <td>277682</td>\n",
       "      <td>4.805</td>\n",
       "    </tr>\n",
       "    <tr>\n",
       "      <th>1</th>\n",
       "      <td>Below</td>\n",
       "      <td>1079</td>\n",
       "      <td>286895</td>\n",
       "      <td>0.376</td>\n",
       "    </tr>\n",
       "  </tbody>\n",
       "</table>\n",
       "</div>"
      ],
      "text/plain": [
       "  above_below  total_converted  num_users  conversion_rate\n",
       "0       Above            13344     277682            4.805\n",
       "1       Below             1079     286895            0.376"
      ]
     },
     "execution_count": 40,
     "metadata": {},
     "output_type": "execute_result"
    }
   ],
   "source": [
    " (\n",
    "    df\n",
    "    .query(\"group == 'ad'\")\n",
    "    .assign(above_below = lambda _: np.where(_[\"total_views\"] > 13, \"Above\", \"Below\"))\n",
    "    .groupby(\"above_below\")\n",
    "    .agg(\n",
    "        total_converted=pd.NamedAgg(column=\"converted\", aggfunc=\"sum\"),\n",
    "        num_users = pd.NamedAgg(column=\"most_views_day\", aggfunc=\"count\")\n",
    "    )\n",
    "    .reset_index()\n",
    "    .assign(conversion_rate = lambda _: round((_[\"total_converted\"] / _[\"num_users\"]) * 100, 3))\n",
    ")"
   ]
  },
  {
   "cell_type": "markdown",
   "metadata": {},
   "source": [
    "When we analyze the conversion rate in relation to the number of views, we observe that users who viewed the ads more frequently achieved a conversion rate of 4.8%, whereas those with fewer views exhibited a conversion rate of 0.38%."
   ]
  },
  {
   "cell_type": "markdown",
   "metadata": {},
   "source": [
    "##### PSA View"
   ]
  },
  {
   "cell_type": "code",
   "execution_count": 41,
   "metadata": {},
   "outputs": [
    {
     "data": {
      "text/html": [
       "<div>\n",
       "<style scoped>\n",
       "    .dataframe tbody tr th:only-of-type {\n",
       "        vertical-align: middle;\n",
       "    }\n",
       "\n",
       "    .dataframe tbody tr th {\n",
       "        vertical-align: top;\n",
       "    }\n",
       "\n",
       "    .dataframe thead th {\n",
       "        text-align: right;\n",
       "    }\n",
       "</style>\n",
       "<table border=\"1\" class=\"dataframe\">\n",
       "  <thead>\n",
       "    <tr style=\"text-align: right;\">\n",
       "      <th></th>\n",
       "      <th>above_below</th>\n",
       "      <th>total_converted</th>\n",
       "      <th>num_users</th>\n",
       "      <th>conversion_rate</th>\n",
       "    </tr>\n",
       "  </thead>\n",
       "  <tbody>\n",
       "    <tr>\n",
       "      <th>0</th>\n",
       "      <td>Above</td>\n",
       "      <td>369</td>\n",
       "      <td>10923</td>\n",
       "      <td>3.378</td>\n",
       "    </tr>\n",
       "    <tr>\n",
       "      <th>1</th>\n",
       "      <td>Below</td>\n",
       "      <td>51</td>\n",
       "      <td>12601</td>\n",
       "      <td>0.405</td>\n",
       "    </tr>\n",
       "  </tbody>\n",
       "</table>\n",
       "</div>"
      ],
      "text/plain": [
       "  above_below  total_converted  num_users  conversion_rate\n",
       "0       Above              369      10923            3.378\n",
       "1       Below               51      12601            0.405"
      ]
     },
     "execution_count": 41,
     "metadata": {},
     "output_type": "execute_result"
    }
   ],
   "source": [
    " (\n",
    "    df\n",
    "    .query(\"group == 'psa'\")\n",
    "    .assign(above_below = lambda _: np.where(_[\"total_views\"] > 13.45, \"Above\", \"Below\"))\n",
    "    .groupby(\"above_below\")\n",
    "    .agg(\n",
    "        total_converted=pd.NamedAgg(column=\"converted\", aggfunc=\"sum\"),\n",
    "        num_users = pd.NamedAgg(column=\"most_views_day\", aggfunc=\"count\")\n",
    "    )\n",
    "    .reset_index()\n",
    "    .assign(conversion_rate = lambda _: round((_[\"total_converted\"] / _[\"num_users\"]) * 100, 3))\n",
    ")"
   ]
  },
  {
   "cell_type": "markdown",
   "metadata": {},
   "source": [
    "Similar to the pattern seen in ad views, users with a higher number of PSA views also demonstrate a greater conversion rate at 3.378%, in contrast to those with fewer views who show a conversion rate of 0.405%."
   ]
  },
  {
   "cell_type": "markdown",
   "metadata": {},
   "source": [
    "#### Total viewes per `day`"
   ]
  },
  {
   "cell_type": "markdown",
   "metadata": {},
   "source": [
    "##### Ads"
   ]
  },
  {
   "cell_type": "code",
   "execution_count": 53,
   "metadata": {},
   "outputs": [
    {
     "data": {
      "text/html": [
       "<div>\n",
       "<style scoped>\n",
       "    .dataframe tbody tr th:only-of-type {\n",
       "        vertical-align: middle;\n",
       "    }\n",
       "\n",
       "    .dataframe tbody tr th {\n",
       "        vertical-align: top;\n",
       "    }\n",
       "\n",
       "    .dataframe thead th {\n",
       "        text-align: right;\n",
       "    }\n",
       "</style>\n",
       "<table border=\"1\" class=\"dataframe\">\n",
       "  <thead>\n",
       "    <tr style=\"text-align: right;\">\n",
       "      <th></th>\n",
       "      <th>most_views_day</th>\n",
       "      <th>count</th>\n",
       "      <th>percentage</th>\n",
       "    </tr>\n",
       "  </thead>\n",
       "  <tbody>\n",
       "    <tr>\n",
       "      <th>0</th>\n",
       "      <td>Friday</td>\n",
       "      <td>88805</td>\n",
       "      <td>15.729</td>\n",
       "    </tr>\n",
       "    <tr>\n",
       "      <th>1</th>\n",
       "      <td>Monday</td>\n",
       "      <td>83571</td>\n",
       "      <td>14.802</td>\n",
       "    </tr>\n",
       "    <tr>\n",
       "      <th>2</th>\n",
       "      <td>Sunday</td>\n",
       "      <td>82332</td>\n",
       "      <td>14.583</td>\n",
       "    </tr>\n",
       "    <tr>\n",
       "      <th>3</th>\n",
       "      <td>Thursday</td>\n",
       "      <td>79077</td>\n",
       "      <td>14.006</td>\n",
       "    </tr>\n",
       "    <tr>\n",
       "      <th>4</th>\n",
       "      <td>Saturday</td>\n",
       "      <td>78802</td>\n",
       "      <td>13.958</td>\n",
       "    </tr>\n",
       "    <tr>\n",
       "      <th>5</th>\n",
       "      <td>Wednesday</td>\n",
       "      <td>77418</td>\n",
       "      <td>13.713</td>\n",
       "    </tr>\n",
       "    <tr>\n",
       "      <th>6</th>\n",
       "      <td>Tuesday</td>\n",
       "      <td>74572</td>\n",
       "      <td>13.208</td>\n",
       "    </tr>\n",
       "  </tbody>\n",
       "</table>\n",
       "</div>"
      ],
      "text/plain": [
       "  most_views_day  count  percentage\n",
       "0         Friday  88805      15.729\n",
       "1         Monday  83571      14.802\n",
       "2         Sunday  82332      14.583\n",
       "3       Thursday  79077      14.006\n",
       "4       Saturday  78802      13.958\n",
       "5      Wednesday  77418      13.713\n",
       "6        Tuesday  74572      13.208"
      ]
     },
     "execution_count": 53,
     "metadata": {},
     "output_type": "execute_result"
    }
   ],
   "source": [
    "(\n",
    "    c_df.query(\"group == 'Ads'\")[\"most_views_day\"]\n",
    "        .value_counts()\n",
    "        .reset_index()\n",
    "        .assign(percentage = lambda _: round((_[\"count\"] / _[\"count\"].sum())*100, 3))\n",
    ")"
   ]
  },
  {
   "cell_type": "code",
   "execution_count": 9,
   "metadata": {},
   "outputs": [
    {
     "data": {
      "image/png": "[encoded data removed]",
      "text/plain": [
       "<Figure size 800x500 with 1 Axes>"
      ]
     },
     "metadata": {
      "image/png": {
       "height": 500,
       "width": 800
      },
      "needs_background": "light"
     },
     "output_type": "display_data"
    },
    {
     "data": {
      "text/plain": [
       "<Figure Size: (800 x 500)>"
      ]
     },
     "execution_count": 9,
     "metadata": {},
     "output_type": "execute_result"
    }
   ],
   "source": [
    "temp = c_df.query(\"group == 'Ads'\")[\"most_views_day\"].value_counts(sort=False).reset_index()\n",
    "\n",
    "(\n",
    "    g.ggplot(temp, g.aes(x=\"most_views_day\", y=\"count\")) +\n",
    "    g.geom_col() +\n",
    "    g.scale_y_continuous(labels = lambda l: [\"{:,.0f}\".format(v) for v in l])  +\n",
    "    g.labs(x=\"\", title=\"The Day Users Viewed the Highest Number of Advertisment\") + \n",
    "    g.theme_minimal() +\n",
    "    g.theme(figure_size=(8, 5))\n",
    ")"
   ]
  },
  {
   "cell_type": "markdown",
   "metadata": {},
   "source": [
    "When we scrutinize the days when users viewed the highest number of ads, it becomes evident that Fridays, heading towards the weekend, take the lead with the highest view count, involving 15.72% of users. This is followed by Monday, Sunday, and Thursday. Interestingly, this pattern also indicates how active users are on different days of the week, with Tuesday registering the lowest user engagement for viewing the most ads."
   ]
  },
  {
   "cell_type": "code",
   "execution_count": 11,
   "metadata": {},
   "outputs": [
    {
     "data": {
      "text/html": [
       "<div>\n",
       "<style scoped>\n",
       "    .dataframe tbody tr th:only-of-type {\n",
       "        vertical-align: middle;\n",
       "    }\n",
       "\n",
       "    .dataframe tbody tr th {\n",
       "        vertical-align: top;\n",
       "    }\n",
       "\n",
       "    .dataframe thead th {\n",
       "        text-align: right;\n",
       "    }\n",
       "</style>\n",
       "<table border=\"1\" class=\"dataframe\">\n",
       "  <thead>\n",
       "    <tr style=\"text-align: right;\">\n",
       "      <th></th>\n",
       "      <th>most_views_day</th>\n",
       "      <th>total_converted</th>\n",
       "      <th>num_users</th>\n",
       "      <th>conversion_rate</th>\n",
       "    </tr>\n",
       "  </thead>\n",
       "  <tbody>\n",
       "    <tr>\n",
       "      <th>0</th>\n",
       "      <td>Sunday</td>\n",
       "      <td>2027</td>\n",
       "      <td>82332</td>\n",
       "      <td>2.462</td>\n",
       "    </tr>\n",
       "    <tr>\n",
       "      <th>1</th>\n",
       "      <td>Monday</td>\n",
       "      <td>2778</td>\n",
       "      <td>83571</td>\n",
       "      <td>3.324</td>\n",
       "    </tr>\n",
       "    <tr>\n",
       "      <th>2</th>\n",
       "      <td>Tuesday</td>\n",
       "      <td>2270</td>\n",
       "      <td>74572</td>\n",
       "      <td>3.044</td>\n",
       "    </tr>\n",
       "    <tr>\n",
       "      <th>3</th>\n",
       "      <td>Wednesday</td>\n",
       "      <td>1963</td>\n",
       "      <td>77418</td>\n",
       "      <td>2.536</td>\n",
       "    </tr>\n",
       "    <tr>\n",
       "      <th>4</th>\n",
       "      <td>Thursday</td>\n",
       "      <td>1711</td>\n",
       "      <td>79077</td>\n",
       "      <td>2.164</td>\n",
       "    </tr>\n",
       "    <tr>\n",
       "      <th>5</th>\n",
       "      <td>Friday</td>\n",
       "      <td>1995</td>\n",
       "      <td>88805</td>\n",
       "      <td>2.246</td>\n",
       "    </tr>\n",
       "    <tr>\n",
       "      <th>6</th>\n",
       "      <td>Saturday</td>\n",
       "      <td>1679</td>\n",
       "      <td>78802</td>\n",
       "      <td>2.131</td>\n",
       "    </tr>\n",
       "  </tbody>\n",
       "</table>\n",
       "</div>"
      ],
      "text/plain": [
       "  most_views_day  total_converted  num_users  conversion_rate\n",
       "0         Sunday             2027      82332            2.462\n",
       "1         Monday             2778      83571            3.324\n",
       "2        Tuesday             2270      74572            3.044\n",
       "3      Wednesday             1963      77418            2.536\n",
       "4       Thursday             1711      79077            2.164\n",
       "5         Friday             1995      88805            2.246\n",
       "6       Saturday             1679      78802            2.131"
      ]
     },
     "execution_count": 11,
     "metadata": {},
     "output_type": "execute_result"
    }
   ],
   "source": [
    "temp = (\n",
    "    df\n",
    "    .query(\"group == 'ad'\")\n",
    "    .groupby(\"most_views_day\")\n",
    "    .agg(\n",
    "        total_converted=pd.NamedAgg(column=\"converted\", aggfunc=\"sum\"),\n",
    "        num_users = pd.NamedAgg(column=\"most_views_day\", aggfunc=\"count\")\n",
    "    )\n",
    "    .reset_index()\n",
    "    .assign(conversion_rate = lambda _: round((_[\"total_converted\"] / _[\"num_users\"]) * 100, 3))\n",
    ")\n",
    "\n",
    "temp"
   ]
  },
  {
   "cell_type": "code",
   "execution_count": 13,
   "metadata": {},
   "outputs": [
    {
     "data": {
      "image/png": "[encoded data removed]",
      "text/plain": [
       "<Figure size 800x500 with 1 Axes>"
      ]
     },
     "metadata": {
      "image/png": {
       "height": 500,
       "width": 800
      },
      "needs_background": "light"
     },
     "output_type": "display_data"
    },
    {
     "data": {
      "text/plain": [
       "<Figure Size: (800 x 500)>"
      ]
     },
     "execution_count": 13,
     "metadata": {},
     "output_type": "execute_result"
    }
   ],
   "source": [
    "(\n",
    "    g.ggplot(temp, g.aes(x=\"most_views_day\", y=\"conversion_rate\")) +\n",
    "    g.geom_col() +\n",
    "    g.labs(x=\"\", y=\"Conversion Rate\", title=\"Rate of Conversion & Day with the Highest Viewed (Ads)\") + \n",
    "    g.theme_minimal() +\n",
    "    g.theme(figure_size=(8, 5))\n",
    ")"
   ]
  },
  {
   "cell_type": "markdown",
   "metadata": {},
   "source": [
    "Even though Friday boasts the highest number of users viewing their most-viewed ad on a single day, it surprisingly records one of the lowest conversion rates at 2.25%. In contrast, Monday stands out with the highest number of users who converted, achieving a conversion rate of 3.32%. Adding to the surprise, Tuesday, which had the lowest user engagement in terms of the most ad views on a single day, surprisingly secures the second-highest conversion rate at 3.04%."
   ]
  },
  {
   "cell_type": "markdown",
   "metadata": {},
   "source": [
    "##### PSA"
   ]
  },
  {
   "cell_type": "code",
   "execution_count": 52,
   "metadata": {},
   "outputs": [
    {
     "data": {
      "text/html": [
       "<div>\n",
       "<style scoped>\n",
       "    .dataframe tbody tr th:only-of-type {\n",
       "        vertical-align: middle;\n",
       "    }\n",
       "\n",
       "    .dataframe tbody tr th {\n",
       "        vertical-align: top;\n",
       "    }\n",
       "\n",
       "    .dataframe thead th {\n",
       "        text-align: right;\n",
       "    }\n",
       "</style>\n",
       "<table border=\"1\" class=\"dataframe\">\n",
       "  <thead>\n",
       "    <tr style=\"text-align: right;\">\n",
       "      <th></th>\n",
       "      <th>most_views_day</th>\n",
       "      <th>count</th>\n",
       "      <th>percentage</th>\n",
       "    </tr>\n",
       "  </thead>\n",
       "  <tbody>\n",
       "    <tr>\n",
       "      <th>0</th>\n",
       "      <td>Thursday</td>\n",
       "      <td>3905</td>\n",
       "      <td>16.600</td>\n",
       "    </tr>\n",
       "    <tr>\n",
       "      <th>1</th>\n",
       "      <td>Friday</td>\n",
       "      <td>3803</td>\n",
       "      <td>16.166</td>\n",
       "    </tr>\n",
       "    <tr>\n",
       "      <th>2</th>\n",
       "      <td>Monday</td>\n",
       "      <td>3502</td>\n",
       "      <td>14.887</td>\n",
       "    </tr>\n",
       "    <tr>\n",
       "      <th>3</th>\n",
       "      <td>Wednesday</td>\n",
       "      <td>3490</td>\n",
       "      <td>14.836</td>\n",
       "    </tr>\n",
       "    <tr>\n",
       "      <th>4</th>\n",
       "      <td>Sunday</td>\n",
       "      <td>3059</td>\n",
       "      <td>13.004</td>\n",
       "    </tr>\n",
       "    <tr>\n",
       "      <th>5</th>\n",
       "      <td>Tuesday</td>\n",
       "      <td>2907</td>\n",
       "      <td>12.358</td>\n",
       "    </tr>\n",
       "    <tr>\n",
       "      <th>6</th>\n",
       "      <td>Saturday</td>\n",
       "      <td>2858</td>\n",
       "      <td>12.149</td>\n",
       "    </tr>\n",
       "  </tbody>\n",
       "</table>\n",
       "</div>"
      ],
      "text/plain": [
       "  most_views_day  count  percentage\n",
       "0       Thursday   3905      16.600\n",
       "1         Friday   3803      16.166\n",
       "2         Monday   3502      14.887\n",
       "3      Wednesday   3490      14.836\n",
       "4         Sunday   3059      13.004\n",
       "5        Tuesday   2907      12.358\n",
       "6       Saturday   2858      12.149"
      ]
     },
     "execution_count": 52,
     "metadata": {},
     "output_type": "execute_result"
    }
   ],
   "source": [
    "(\n",
    "    c_df.query(\"group == 'PSA'\")[\"most_views_day\"]\n",
    "        .value_counts()\n",
    "        .reset_index()\n",
    "        .assign(percentage = lambda _: round((_[\"count\"] / _[\"count\"].sum())*100, 3))\n",
    ")"
   ]
  },
  {
   "cell_type": "code",
   "execution_count": 51,
   "metadata": {},
   "outputs": [
    {
     "data": {
      "image/png": "[encoded data removed]",
      "text/plain": [
       "<Figure size 800x500 with 1 Axes>"
      ]
     },
     "metadata": {
      "image/png": {
       "height": 500,
       "width": 800
      },
      "needs_background": "light"
     },
     "output_type": "display_data"
    },
    {
     "data": {
      "text/plain": [
       "<Figure Size: (800 x 500)>"
      ]
     },
     "execution_count": 51,
     "metadata": {},
     "output_type": "execute_result"
    }
   ],
   "source": [
    "temp = c_df.query(\"group == 'PSA'\")[\"most_views_day\"].value_counts(sort=False).reset_index()\n",
    "\n",
    "(\n",
    "    g.ggplot(temp, g.aes(x=\"most_views_day\", y=\"count\")) +\n",
    "    g.geom_col() +\n",
    "    g.scale_y_continuous(labels = lambda l: [\"{:,.0f}\".format(v) for v in l])  +\n",
    "    g.labs(x=\"\", title = \"The Most PSA View by Users Per Day\") +\n",
    "    g.theme_minimal() +\n",
    "    g.theme(figure_size=(8, 5))\n",
    ")"
   ]
  },
  {
   "cell_type": "markdown",
   "metadata": {},
   "source": [
    "Differing from users' ad views, the day with the highest number of `\"public service announcement\"` views occurred on Thursday, closely followed by Friday, with each accounting for approximately 16% of users. Meanwhile, Monday and Wednesday are also notable for their engagement levels, while Saturday records the lowest user activity, with Tuesday not far behind."
   ]
  },
  {
   "cell_type": "code",
   "execution_count": 55,
   "metadata": {},
   "outputs": [
    {
     "data": {
      "text/html": [
       "<div>\n",
       "<style scoped>\n",
       "    .dataframe tbody tr th:only-of-type {\n",
       "        vertical-align: middle;\n",
       "    }\n",
       "\n",
       "    .dataframe tbody tr th {\n",
       "        vertical-align: top;\n",
       "    }\n",
       "\n",
       "    .dataframe thead th {\n",
       "        text-align: right;\n",
       "    }\n",
       "</style>\n",
       "<table border=\"1\" class=\"dataframe\">\n",
       "  <thead>\n",
       "    <tr style=\"text-align: right;\">\n",
       "      <th></th>\n",
       "      <th>most_views_day</th>\n",
       "      <th>total_converted</th>\n",
       "      <th>num_users</th>\n",
       "      <th>conversion_rate</th>\n",
       "    </tr>\n",
       "  </thead>\n",
       "  <tbody>\n",
       "    <tr>\n",
       "      <th>0</th>\n",
       "      <td>Sunday</td>\n",
       "      <td>63</td>\n",
       "      <td>3059</td>\n",
       "      <td>2.059</td>\n",
       "    </tr>\n",
       "    <tr>\n",
       "      <th>1</th>\n",
       "      <td>Monday</td>\n",
       "      <td>79</td>\n",
       "      <td>3502</td>\n",
       "      <td>2.256</td>\n",
       "    </tr>\n",
       "    <tr>\n",
       "      <th>2</th>\n",
       "      <td>Tuesday</td>\n",
       "      <td>42</td>\n",
       "      <td>2907</td>\n",
       "      <td>1.445</td>\n",
       "    </tr>\n",
       "    <tr>\n",
       "      <th>3</th>\n",
       "      <td>Wednesday</td>\n",
       "      <td>55</td>\n",
       "      <td>3490</td>\n",
       "      <td>1.576</td>\n",
       "    </tr>\n",
       "    <tr>\n",
       "      <th>4</th>\n",
       "      <td>Thursday</td>\n",
       "      <td>79</td>\n",
       "      <td>3905</td>\n",
       "      <td>2.023</td>\n",
       "    </tr>\n",
       "    <tr>\n",
       "      <th>5</th>\n",
       "      <td>Friday</td>\n",
       "      <td>62</td>\n",
       "      <td>3803</td>\n",
       "      <td>1.630</td>\n",
       "    </tr>\n",
       "    <tr>\n",
       "      <th>6</th>\n",
       "      <td>Saturday</td>\n",
       "      <td>40</td>\n",
       "      <td>2858</td>\n",
       "      <td>1.400</td>\n",
       "    </tr>\n",
       "  </tbody>\n",
       "</table>\n",
       "</div>"
      ],
      "text/plain": [
       "  most_views_day  total_converted  num_users  conversion_rate\n",
       "0         Sunday               63       3059            2.059\n",
       "1         Monday               79       3502            2.256\n",
       "2        Tuesday               42       2907            1.445\n",
       "3      Wednesday               55       3490            1.576\n",
       "4       Thursday               79       3905            2.023\n",
       "5         Friday               62       3803            1.630\n",
       "6       Saturday               40       2858            1.400"
      ]
     },
     "execution_count": 55,
     "metadata": {},
     "output_type": "execute_result"
    }
   ],
   "source": [
    "\n",
    "temp = (\n",
    "    df\n",
    "    .query(\"group == 'psa'\")\n",
    "    .groupby(\"most_views_day\")\n",
    "    .agg(\n",
    "        total_converted=pd.NamedAgg(column=\"converted\", aggfunc=\"sum\"),\n",
    "        num_users = pd.NamedAgg(column=\"most_views_day\", aggfunc=\"count\")\n",
    "    )\n",
    "    .reset_index()\n",
    "    .assign(conversion_rate = lambda _: round((_[\"total_converted\"] / _[\"num_users\"]) * 100, 3))\n",
    ")\n",
    "\n",
    "temp"
   ]
  },
  {
   "cell_type": "code",
   "execution_count": 56,
   "metadata": {},
   "outputs": [
    {
     "data": {
      "image/png": "[encoded data removed]",
      "text/plain": [
       "<Figure size 800x500 with 1 Axes>"
      ]
     },
     "metadata": {
      "image/png": {
       "height": 500,
       "width": 800
      },
      "needs_background": "light"
     },
     "output_type": "display_data"
    },
    {
     "data": {
      "text/plain": [
       "<Figure Size: (800 x 500)>"
      ]
     },
     "execution_count": 56,
     "metadata": {},
     "output_type": "execute_result"
    }
   ],
   "source": [
    "(\n",
    "    g.ggplot(temp, g.aes(x=\"most_views_day\", y=\"conversion_rate\")) +\n",
    "    g.geom_col() +\n",
    "    g.labs(x=\"\", y=\"Conversion Rate\", title=\"The Rate of Conversion for Each Day of the Week (PSA)\") +\n",
    "    g.theme_minimal() +\n",
    "    g.theme(figure_size=(8, 5))\n",
    ")"
   ]
  },
  {
   "cell_type": "markdown",
   "metadata": {},
   "source": [
    "When we examine the conversion rate in relation to the days with the most PSA views, a distinct narrative emerges compared to the overall view count.  Monday, despite being the third-highest day in terms of views, records the highest number of users who converted. Following closely behind is Thursday, while Saturday registers the lowest number of users who converted despite its view count."
   ]
  },
  {
   "cell_type": "markdown",
   "metadata": {},
   "source": [
    "#### Total views per `hour`"
   ]
  },
  {
   "cell_type": "markdown",
   "metadata": {},
   "source": [
    "##### Ads"
   ]
  },
  {
   "cell_type": "code",
   "execution_count": 57,
   "metadata": {},
   "outputs": [
    {
     "data": {
      "text/html": [
       "<div>\n",
       "<style scoped>\n",
       "    .dataframe tbody tr th:only-of-type {\n",
       "        vertical-align: middle;\n",
       "    }\n",
       "\n",
       "    .dataframe tbody tr th {\n",
       "        vertical-align: top;\n",
       "    }\n",
       "\n",
       "    .dataframe thead th {\n",
       "        text-align: right;\n",
       "    }\n",
       "</style>\n",
       "<table border=\"1\" class=\"dataframe\">\n",
       "  <thead>\n",
       "    <tr style=\"text-align: right;\">\n",
       "      <th></th>\n",
       "      <th>most_views_hour</th>\n",
       "      <th>count</th>\n",
       "      <th>percentage</th>\n",
       "    </tr>\n",
       "  </thead>\n",
       "  <tbody>\n",
       "    <tr>\n",
       "      <th>0</th>\n",
       "      <td>13</td>\n",
       "      <td>45485</td>\n",
       "      <td>8.056</td>\n",
       "    </tr>\n",
       "    <tr>\n",
       "      <th>1</th>\n",
       "      <td>12</td>\n",
       "      <td>45238</td>\n",
       "      <td>8.013</td>\n",
       "    </tr>\n",
       "    <tr>\n",
       "      <th>2</th>\n",
       "      <td>11</td>\n",
       "      <td>44149</td>\n",
       "      <td>7.820</td>\n",
       "    </tr>\n",
       "    <tr>\n",
       "      <th>3</th>\n",
       "      <td>14</td>\n",
       "      <td>43779</td>\n",
       "      <td>7.754</td>\n",
       "    </tr>\n",
       "    <tr>\n",
       "      <th>4</th>\n",
       "      <td>15</td>\n",
       "      <td>42855</td>\n",
       "      <td>7.591</td>\n",
       "    </tr>\n",
       "    <tr>\n",
       "      <th>5</th>\n",
       "      <td>10</td>\n",
       "      <td>37454</td>\n",
       "      <td>6.634</td>\n",
       "    </tr>\n",
       "    <tr>\n",
       "      <th>6</th>\n",
       "      <td>16</td>\n",
       "      <td>35963</td>\n",
       "      <td>6.370</td>\n",
       "    </tr>\n",
       "    <tr>\n",
       "      <th>7</th>\n",
       "      <td>17</td>\n",
       "      <td>33605</td>\n",
       "      <td>5.952</td>\n",
       "    </tr>\n",
       "    <tr>\n",
       "      <th>8</th>\n",
       "      <td>18</td>\n",
       "      <td>31052</td>\n",
       "      <td>5.500</td>\n",
       "    </tr>\n",
       "    <tr>\n",
       "      <th>9</th>\n",
       "      <td>9</td>\n",
       "      <td>29802</td>\n",
       "      <td>5.279</td>\n",
       "    </tr>\n",
       "    <tr>\n",
       "      <th>10</th>\n",
       "      <td>19</td>\n",
       "      <td>29169</td>\n",
       "      <td>5.167</td>\n",
       "    </tr>\n",
       "    <tr>\n",
       "      <th>11</th>\n",
       "      <td>21</td>\n",
       "      <td>28895</td>\n",
       "      <td>5.118</td>\n",
       "    </tr>\n",
       "    <tr>\n",
       "      <th>12</th>\n",
       "      <td>20</td>\n",
       "      <td>27846</td>\n",
       "      <td>4.932</td>\n",
       "    </tr>\n",
       "    <tr>\n",
       "      <th>13</th>\n",
       "      <td>22</td>\n",
       "      <td>25515</td>\n",
       "      <td>4.519</td>\n",
       "    </tr>\n",
       "    <tr>\n",
       "      <th>14</th>\n",
       "      <td>23</td>\n",
       "      <td>19547</td>\n",
       "      <td>3.462</td>\n",
       "    </tr>\n",
       "    <tr>\n",
       "      <th>15</th>\n",
       "      <td>8</td>\n",
       "      <td>16968</td>\n",
       "      <td>3.005</td>\n",
       "    </tr>\n",
       "    <tr>\n",
       "      <th>16</th>\n",
       "      <td>7</td>\n",
       "      <td>6168</td>\n",
       "      <td>1.092</td>\n",
       "    </tr>\n",
       "    <tr>\n",
       "      <th>17</th>\n",
       "      <td>0</td>\n",
       "      <td>5309</td>\n",
       "      <td>0.940</td>\n",
       "    </tr>\n",
       "    <tr>\n",
       "      <th>18</th>\n",
       "      <td>2</td>\n",
       "      <td>5152</td>\n",
       "      <td>0.913</td>\n",
       "    </tr>\n",
       "    <tr>\n",
       "      <th>19</th>\n",
       "      <td>1</td>\n",
       "      <td>4615</td>\n",
       "      <td>0.817</td>\n",
       "    </tr>\n",
       "    <tr>\n",
       "      <th>20</th>\n",
       "      <td>3</td>\n",
       "      <td>2590</td>\n",
       "      <td>0.459</td>\n",
       "    </tr>\n",
       "    <tr>\n",
       "      <th>21</th>\n",
       "      <td>6</td>\n",
       "      <td>1985</td>\n",
       "      <td>0.352</td>\n",
       "    </tr>\n",
       "    <tr>\n",
       "      <th>22</th>\n",
       "      <td>5</td>\n",
       "      <td>742</td>\n",
       "      <td>0.131</td>\n",
       "    </tr>\n",
       "    <tr>\n",
       "      <th>23</th>\n",
       "      <td>4</td>\n",
       "      <td>694</td>\n",
       "      <td>0.123</td>\n",
       "    </tr>\n",
       "  </tbody>\n",
       "</table>\n",
       "</div>"
      ],
      "text/plain": [
       "    most_views_hour  count  percentage\n",
       "0                13  45485       8.056\n",
       "1                12  45238       8.013\n",
       "2                11  44149       7.820\n",
       "3                14  43779       7.754\n",
       "4                15  42855       7.591\n",
       "5                10  37454       6.634\n",
       "6                16  35963       6.370\n",
       "7                17  33605       5.952\n",
       "8                18  31052       5.500\n",
       "9                 9  29802       5.279\n",
       "10               19  29169       5.167\n",
       "11               21  28895       5.118\n",
       "12               20  27846       4.932\n",
       "13               22  25515       4.519\n",
       "14               23  19547       3.462\n",
       "15                8  16968       3.005\n",
       "16                7   6168       1.092\n",
       "17                0   5309       0.940\n",
       "18                2   5152       0.913\n",
       "19                1   4615       0.817\n",
       "20                3   2590       0.459\n",
       "21                6   1985       0.352\n",
       "22                5    742       0.131\n",
       "23                4    694       0.123"
      ]
     },
     "execution_count": 57,
     "metadata": {},
     "output_type": "execute_result"
    }
   ],
   "source": [
    "(\n",
    "    c_df.query(\"group == 'Ads'\")[\"most_views_hour\"]\n",
    "        .value_counts()\n",
    "        .reset_index()\n",
    "        .assign(percentage = lambda _: round((_[\"count\"] / _[\"count\"].sum())*100, 3))\n",
    ")"
   ]
  },
  {
   "cell_type": "code",
   "execution_count": 59,
   "metadata": {},
   "outputs": [
    {
     "data": {
      "image/png": "[encoded data removed]",
      "text/plain": [
       "<Figure size 800x500 with 1 Axes>"
      ]
     },
     "metadata": {
      "image/png": {
       "height": 500,
       "width": 800
      },
      "needs_background": "light"
     },
     "output_type": "display_data"
    },
    {
     "data": {
      "text/plain": [
       "<Figure Size: (800 x 500)>"
      ]
     },
     "execution_count": 59,
     "metadata": {},
     "output_type": "execute_result"
    }
   ],
   "source": [
    "temp = c_df.query(\"group == 'Ads'\")[\"most_views_hour\"].value_counts(sort=False).reset_index()\n",
    "\n",
    "(\n",
    "    g.ggplot(temp, g.aes(x=\"most_views_hour\", y=\"count\")) +\n",
    "    g.geom_col() +\n",
    "    g.scale_y_continuous(labels = lambda l: [\"{:,.0f}\".format(v) for v in l])  +\n",
    "    g.scale_x_continuous(breaks = list(range(0, 24))) +\n",
    "    g.labs(x=\"\", title = \"The Most Advertisment View by Users Per Hour\") + \n",
    "    g.theme_minimal() +\n",
    "    g.theme(figure_size=(8, 5))\n",
    ")"
   ]
  },
  {
   "cell_type": "markdown",
   "metadata": {},
   "source": [
    "The majority of users engaged with the most ads from 8 am until 11 pm, with a notable peak between 11 am and 3 pm, averaging around 44,301 users. Conversely, the period from midnight to 7 am recorded the lowest user engagement, with an average of approximately 3,407 users."
   ]
  },
  {
   "cell_type": "markdown",
   "metadata": {},
   "source": [
    "###### Conversion"
   ]
  },
  {
   "cell_type": "code",
   "execution_count": 75,
   "metadata": {},
   "outputs": [
    {
     "data": {
      "text/html": [
       "<div>\n",
       "<style scoped>\n",
       "    .dataframe tbody tr th:only-of-type {\n",
       "        vertical-align: middle;\n",
       "    }\n",
       "\n",
       "    .dataframe tbody tr th {\n",
       "        vertical-align: top;\n",
       "    }\n",
       "\n",
       "    .dataframe thead th {\n",
       "        text-align: right;\n",
       "    }\n",
       "</style>\n",
       "<table border=\"1\" class=\"dataframe\">\n",
       "  <thead>\n",
       "    <tr style=\"text-align: right;\">\n",
       "      <th></th>\n",
       "      <th>most_views_hour</th>\n",
       "      <th>total_converted</th>\n",
       "      <th>num_users</th>\n",
       "      <th>conversion_rate</th>\n",
       "    </tr>\n",
       "  </thead>\n",
       "  <tbody>\n",
       "    <tr>\n",
       "      <th>0</th>\n",
       "      <td>0</td>\n",
       "      <td>102</td>\n",
       "      <td>5309</td>\n",
       "      <td>1.921</td>\n",
       "    </tr>\n",
       "    <tr>\n",
       "      <th>1</th>\n",
       "      <td>1</td>\n",
       "      <td>62</td>\n",
       "      <td>4615</td>\n",
       "      <td>1.343</td>\n",
       "    </tr>\n",
       "    <tr>\n",
       "      <th>2</th>\n",
       "      <td>2</td>\n",
       "      <td>39</td>\n",
       "      <td>5152</td>\n",
       "      <td>0.757</td>\n",
       "    </tr>\n",
       "    <tr>\n",
       "      <th>3</th>\n",
       "      <td>3</td>\n",
       "      <td>27</td>\n",
       "      <td>2590</td>\n",
       "      <td>1.042</td>\n",
       "    </tr>\n",
       "    <tr>\n",
       "      <th>4</th>\n",
       "      <td>4</td>\n",
       "      <td>11</td>\n",
       "      <td>694</td>\n",
       "      <td>1.585</td>\n",
       "    </tr>\n",
       "    <tr>\n",
       "      <th>5</th>\n",
       "      <td>5</td>\n",
       "      <td>16</td>\n",
       "      <td>742</td>\n",
       "      <td>2.156</td>\n",
       "    </tr>\n",
       "    <tr>\n",
       "      <th>6</th>\n",
       "      <td>6</td>\n",
       "      <td>46</td>\n",
       "      <td>1985</td>\n",
       "      <td>2.317</td>\n",
       "    </tr>\n",
       "    <tr>\n",
       "      <th>7</th>\n",
       "      <td>7</td>\n",
       "      <td>114</td>\n",
       "      <td>6168</td>\n",
       "      <td>1.848</td>\n",
       "    </tr>\n",
       "    <tr>\n",
       "      <th>8</th>\n",
       "      <td>8</td>\n",
       "      <td>337</td>\n",
       "      <td>16968</td>\n",
       "      <td>1.986</td>\n",
       "    </tr>\n",
       "    <tr>\n",
       "      <th>9</th>\n",
       "      <td>9</td>\n",
       "      <td>582</td>\n",
       "      <td>29802</td>\n",
       "      <td>1.953</td>\n",
       "    </tr>\n",
       "    <tr>\n",
       "      <th>10</th>\n",
       "      <td>10</td>\n",
       "      <td>818</td>\n",
       "      <td>37454</td>\n",
       "      <td>2.184</td>\n",
       "    </tr>\n",
       "    <tr>\n",
       "      <th>11</th>\n",
       "      <td>11</td>\n",
       "      <td>992</td>\n",
       "      <td>44149</td>\n",
       "      <td>2.247</td>\n",
       "    </tr>\n",
       "    <tr>\n",
       "      <th>12</th>\n",
       "      <td>12</td>\n",
       "      <td>1092</td>\n",
       "      <td>45238</td>\n",
       "      <td>2.414</td>\n",
       "    </tr>\n",
       "    <tr>\n",
       "      <th>13</th>\n",
       "      <td>13</td>\n",
       "      <td>1140</td>\n",
       "      <td>45485</td>\n",
       "      <td>2.506</td>\n",
       "    </tr>\n",
       "    <tr>\n",
       "      <th>14</th>\n",
       "      <td>14</td>\n",
       "      <td>1251</td>\n",
       "      <td>43779</td>\n",
       "      <td>2.858</td>\n",
       "    </tr>\n",
       "    <tr>\n",
       "      <th>15</th>\n",
       "      <td>15</td>\n",
       "      <td>1279</td>\n",
       "      <td>42855</td>\n",
       "      <td>2.984</td>\n",
       "    </tr>\n",
       "    <tr>\n",
       "      <th>16</th>\n",
       "      <td>16</td>\n",
       "      <td>1111</td>\n",
       "      <td>35963</td>\n",
       "      <td>3.089</td>\n",
       "    </tr>\n",
       "    <tr>\n",
       "      <th>17</th>\n",
       "      <td>17</td>\n",
       "      <td>959</td>\n",
       "      <td>33605</td>\n",
       "      <td>2.854</td>\n",
       "    </tr>\n",
       "    <tr>\n",
       "      <th>18</th>\n",
       "      <td>18</td>\n",
       "      <td>853</td>\n",
       "      <td>31052</td>\n",
       "      <td>2.747</td>\n",
       "    </tr>\n",
       "    <tr>\n",
       "      <th>19</th>\n",
       "      <td>19</td>\n",
       "      <td>782</td>\n",
       "      <td>29169</td>\n",
       "      <td>2.681</td>\n",
       "    </tr>\n",
       "    <tr>\n",
       "      <th>20</th>\n",
       "      <td>20</td>\n",
       "      <td>843</td>\n",
       "      <td>27846</td>\n",
       "      <td>3.027</td>\n",
       "    </tr>\n",
       "    <tr>\n",
       "      <th>21</th>\n",
       "      <td>21</td>\n",
       "      <td>843</td>\n",
       "      <td>28895</td>\n",
       "      <td>2.917</td>\n",
       "    </tr>\n",
       "    <tr>\n",
       "      <th>22</th>\n",
       "      <td>22</td>\n",
       "      <td>675</td>\n",
       "      <td>25515</td>\n",
       "      <td>2.646</td>\n",
       "    </tr>\n",
       "    <tr>\n",
       "      <th>23</th>\n",
       "      <td>23</td>\n",
       "      <td>449</td>\n",
       "      <td>19547</td>\n",
       "      <td>2.297</td>\n",
       "    </tr>\n",
       "  </tbody>\n",
       "</table>\n",
       "</div>"
      ],
      "text/plain": [
       "    most_views_hour  total_converted  num_users  conversion_rate\n",
       "0                 0              102       5309            1.921\n",
       "1                 1               62       4615            1.343\n",
       "2                 2               39       5152            0.757\n",
       "3                 3               27       2590            1.042\n",
       "4                 4               11        694            1.585\n",
       "5                 5               16        742            2.156\n",
       "6                 6               46       1985            2.317\n",
       "7                 7              114       6168            1.848\n",
       "8                 8              337      16968            1.986\n",
       "9                 9              582      29802            1.953\n",
       "10               10              818      37454            2.184\n",
       "11               11              992      44149            2.247\n",
       "12               12             1092      45238            2.414\n",
       "13               13             1140      45485            2.506\n",
       "14               14             1251      43779            2.858\n",
       "15               15             1279      42855            2.984\n",
       "16               16             1111      35963            3.089\n",
       "17               17              959      33605            2.854\n",
       "18               18              853      31052            2.747\n",
       "19               19              782      29169            2.681\n",
       "20               20              843      27846            3.027\n",
       "21               21              843      28895            2.917\n",
       "22               22              675      25515            2.646\n",
       "23               23              449      19547            2.297"
      ]
     },
     "execution_count": 75,
     "metadata": {},
     "output_type": "execute_result"
    }
   ],
   "source": [
    "temp = (\n",
    "    df\n",
    "    .query(\"group == 'ad'\")\n",
    "    .groupby(\"most_views_hour\")\n",
    "    .agg(\n",
    "        total_converted=pd.NamedAgg(column=\"converted\", aggfunc=\"sum\"),\n",
    "        num_users = pd.NamedAgg(column=\"most_views_hour\", aggfunc=\"count\")\n",
    "    )\n",
    "    .reset_index()\n",
    "    .assign(conversion_rate = lambda _: round((_[\"total_converted\"] / _[\"num_users\"]) * 100, 3))\n",
    ")\n",
    "\n",
    "temp"
   ]
  },
  {
   "cell_type": "code",
   "execution_count": 79,
   "metadata": {},
   "outputs": [
    {
     "data": {
      "image/png": "[encoded data removed]",
      "text/plain": [
       "<Figure size 800x500 with 1 Axes>"
      ]
     },
     "metadata": {
      "image/png": {
       "height": 500,
       "width": 800
      },
      "needs_background": "light"
     },
     "output_type": "display_data"
    },
    {
     "data": {
      "text/plain": [
       "<Figure Size: (800 x 500)>"
      ]
     },
     "execution_count": 79,
     "metadata": {},
     "output_type": "execute_result"
    }
   ],
   "source": [
    "(\n",
    "    g.ggplot(temp, g.aes(x=\"most_views_hour\", y=\"conversion_rate\")) +\n",
    "    g.geom_col() +\n",
    "    g.scale_y_continuous(labels = lambda l: [\"{:,.0f}\".format(v) for v in l])  +\n",
    "    g.scale_x_continuous(breaks = list(range(0, 24))) +\n",
    "    g.labs(x=\"Hour\", y=\"Conversion Rate\", title = \"The Rate of Conversion by Hour of the Day (Ads)\") + \n",
    "    g.theme_minimal() +\n",
    "    g.theme(figure_size=(8, 5))\n",
    ")"
   ]
  },
  {
   "cell_type": "markdown",
   "metadata": {},
   "source": [
    "Beginning at 9 am, there is a noticeable upward trend in conversion rates, reaching its peak between 2 pm and 4 pm. Subsequently, conversion rates begin to decline from 5 pm to 7 pm and again from 8 pm to 11 pm. These fluctuations could be naturally influenced by the varying levels of user activity during those hours."
   ]
  },
  {
   "cell_type": "markdown",
   "metadata": {},
   "source": [
    "##### PSA"
   ]
  },
  {
   "cell_type": "code",
   "execution_count": 65,
   "metadata": {},
   "outputs": [
    {
     "data": {
      "text/html": [
       "<div>\n",
       "<style scoped>\n",
       "    .dataframe tbody tr th:only-of-type {\n",
       "        vertical-align: middle;\n",
       "    }\n",
       "\n",
       "    .dataframe tbody tr th {\n",
       "        vertical-align: top;\n",
       "    }\n",
       "\n",
       "    .dataframe thead th {\n",
       "        text-align: right;\n",
       "    }\n",
       "</style>\n",
       "<table border=\"1\" class=\"dataframe\">\n",
       "  <thead>\n",
       "    <tr style=\"text-align: right;\">\n",
       "      <th></th>\n",
       "      <th>most_views_hour</th>\n",
       "      <th>count</th>\n",
       "      <th>percentage</th>\n",
       "    </tr>\n",
       "  </thead>\n",
       "  <tbody>\n",
       "    <tr>\n",
       "      <th>0</th>\n",
       "      <td>13</td>\n",
       "      <td>2170</td>\n",
       "      <td>9.225</td>\n",
       "    </tr>\n",
       "    <tr>\n",
       "      <th>1</th>\n",
       "      <td>11</td>\n",
       "      <td>2061</td>\n",
       "      <td>8.761</td>\n",
       "    </tr>\n",
       "    <tr>\n",
       "      <th>2</th>\n",
       "      <td>12</td>\n",
       "      <td>2060</td>\n",
       "      <td>8.757</td>\n",
       "    </tr>\n",
       "    <tr>\n",
       "      <th>3</th>\n",
       "      <td>14</td>\n",
       "      <td>1869</td>\n",
       "      <td>7.945</td>\n",
       "    </tr>\n",
       "    <tr>\n",
       "      <th>4</th>\n",
       "      <td>15</td>\n",
       "      <td>1828</td>\n",
       "      <td>7.771</td>\n",
       "    </tr>\n",
       "    <tr>\n",
       "      <th>5</th>\n",
       "      <td>16</td>\n",
       "      <td>1604</td>\n",
       "      <td>6.819</td>\n",
       "    </tr>\n",
       "    <tr>\n",
       "      <th>6</th>\n",
       "      <td>10</td>\n",
       "      <td>1485</td>\n",
       "      <td>6.313</td>\n",
       "    </tr>\n",
       "    <tr>\n",
       "      <th>7</th>\n",
       "      <td>17</td>\n",
       "      <td>1383</td>\n",
       "      <td>5.879</td>\n",
       "    </tr>\n",
       "    <tr>\n",
       "      <th>8</th>\n",
       "      <td>18</td>\n",
       "      <td>1271</td>\n",
       "      <td>5.403</td>\n",
       "    </tr>\n",
       "    <tr>\n",
       "      <th>9</th>\n",
       "      <td>9</td>\n",
       "      <td>1202</td>\n",
       "      <td>5.110</td>\n",
       "    </tr>\n",
       "    <tr>\n",
       "      <th>10</th>\n",
       "      <td>19</td>\n",
       "      <td>1183</td>\n",
       "      <td>5.029</td>\n",
       "    </tr>\n",
       "    <tr>\n",
       "      <th>11</th>\n",
       "      <td>21</td>\n",
       "      <td>1081</td>\n",
       "      <td>4.595</td>\n",
       "    </tr>\n",
       "    <tr>\n",
       "      <th>12</th>\n",
       "      <td>20</td>\n",
       "      <td>1077</td>\n",
       "      <td>4.578</td>\n",
       "    </tr>\n",
       "    <tr>\n",
       "      <th>13</th>\n",
       "      <td>22</td>\n",
       "      <td>917</td>\n",
       "      <td>3.898</td>\n",
       "    </tr>\n",
       "    <tr>\n",
       "      <th>14</th>\n",
       "      <td>8</td>\n",
       "      <td>659</td>\n",
       "      <td>2.801</td>\n",
       "    </tr>\n",
       "    <tr>\n",
       "      <th>15</th>\n",
       "      <td>23</td>\n",
       "      <td>619</td>\n",
       "      <td>2.631</td>\n",
       "    </tr>\n",
       "    <tr>\n",
       "      <th>16</th>\n",
       "      <td>7</td>\n",
       "      <td>237</td>\n",
       "      <td>1.007</td>\n",
       "    </tr>\n",
       "    <tr>\n",
       "      <th>17</th>\n",
       "      <td>0</td>\n",
       "      <td>227</td>\n",
       "      <td>0.965</td>\n",
       "    </tr>\n",
       "    <tr>\n",
       "      <th>18</th>\n",
       "      <td>1</td>\n",
       "      <td>187</td>\n",
       "      <td>0.795</td>\n",
       "    </tr>\n",
       "    <tr>\n",
       "      <th>19</th>\n",
       "      <td>2</td>\n",
       "      <td>181</td>\n",
       "      <td>0.769</td>\n",
       "    </tr>\n",
       "    <tr>\n",
       "      <th>20</th>\n",
       "      <td>3</td>\n",
       "      <td>89</td>\n",
       "      <td>0.378</td>\n",
       "    </tr>\n",
       "    <tr>\n",
       "      <th>21</th>\n",
       "      <td>6</td>\n",
       "      <td>83</td>\n",
       "      <td>0.353</td>\n",
       "    </tr>\n",
       "    <tr>\n",
       "      <th>22</th>\n",
       "      <td>4</td>\n",
       "      <td>28</td>\n",
       "      <td>0.119</td>\n",
       "    </tr>\n",
       "    <tr>\n",
       "      <th>23</th>\n",
       "      <td>5</td>\n",
       "      <td>23</td>\n",
       "      <td>0.098</td>\n",
       "    </tr>\n",
       "  </tbody>\n",
       "</table>\n",
       "</div>"
      ],
      "text/plain": [
       "    most_views_hour  count  percentage\n",
       "0                13   2170       9.225\n",
       "1                11   2061       8.761\n",
       "2                12   2060       8.757\n",
       "3                14   1869       7.945\n",
       "4                15   1828       7.771\n",
       "5                16   1604       6.819\n",
       "6                10   1485       6.313\n",
       "7                17   1383       5.879\n",
       "8                18   1271       5.403\n",
       "9                 9   1202       5.110\n",
       "10               19   1183       5.029\n",
       "11               21   1081       4.595\n",
       "12               20   1077       4.578\n",
       "13               22    917       3.898\n",
       "14                8    659       2.801\n",
       "15               23    619       2.631\n",
       "16                7    237       1.007\n",
       "17                0    227       0.965\n",
       "18                1    187       0.795\n",
       "19                2    181       0.769\n",
       "20                3     89       0.378\n",
       "21                6     83       0.353\n",
       "22                4     28       0.119\n",
       "23                5     23       0.098"
      ]
     },
     "execution_count": 65,
     "metadata": {},
     "output_type": "execute_result"
    }
   ],
   "source": [
    "(\n",
    "    c_df.query(\"group == 'PSA'\")[\"most_views_hour\"]\n",
    "        .value_counts()\n",
    "        .reset_index()\n",
    "        .assign(percentage = lambda _: round((_[\"count\"] / _[\"count\"].sum())*100, 3))\n",
    ")"
   ]
  },
  {
   "cell_type": "code",
   "execution_count": 68,
   "metadata": {},
   "outputs": [
    {
     "data": {
      "text/plain": [
       "131.875"
      ]
     },
     "execution_count": 68,
     "metadata": {},
     "output_type": "execute_result"
    }
   ],
   "source": [
    "temp = (\n",
    "    c_df.query(\"group == 'PSA'\")[\"most_views_hour\"]\n",
    "        .value_counts()\n",
    "        .reset_index()\n",
    "        .assign(percentage = lambda _: round((_[\"count\"] / _[\"count\"].sum())*100, 3))\n",
    ")\n",
    "\n",
    "\n",
    "temp.query(f\"most_views_hour in {list(range(8))}\")[\"count\"].mean()"
   ]
  },
  {
   "cell_type": "code",
   "execution_count": 66,
   "metadata": {},
   "outputs": [
    {
     "data": {
      "image/png": "[encoded data removed]",
      "text/plain": [
       "<Figure size 800x500 with 1 Axes>"
      ]
     },
     "metadata": {
      "image/png": {
       "height": 500,
       "width": 800
      },
      "needs_background": "light"
     },
     "output_type": "display_data"
    },
    {
     "data": {
      "text/plain": [
       "<Figure Size: (800 x 500)>"
      ]
     },
     "execution_count": 66,
     "metadata": {},
     "output_type": "execute_result"
    }
   ],
   "source": [
    "temp = c_df.query(\"group == 'PSA'\")[\"most_views_hour\"].value_counts(sort=False).reset_index()\n",
    "\n",
    "(\n",
    "    g.ggplot(temp, g.aes(x=\"most_views_hour\", y=\"count\")) +\n",
    "    g.geom_col() +\n",
    "    g.scale_y_continuous(labels = lambda l: [\"{:,.0f}\".format(v) for v in l])  +\n",
    "    g.scale_x_continuous(breaks = list(range(0, 24))) +\n",
    "    g.labs(x=\"\", title = \"The Most PSA View by Users Per Hour\") +\n",
    "    g.theme_minimal() +\n",
    "    g.theme(figure_size=(8, 5))\n",
    ")"
   ]
  },
  {
   "cell_type": "markdown",
   "metadata": {},
   "source": [
    "The user engagement pattern concerning the most-viewed PSA per hour closely mirrors that of the ads. The peak activity hours for users on the platform were between 11 am and 3 pm, with an average of around 1,997 users. Conversely, the period from midnight to 7 am registered the lowest user activity, as anticipated, with an average of approximately 131 users."
   ]
  },
  {
   "cell_type": "markdown",
   "metadata": {},
   "source": [
    "###### Conversion"
   ]
  },
  {
   "cell_type": "code",
   "execution_count": 80,
   "metadata": {},
   "outputs": [
    {
     "data": {
      "text/html": [
       "<div>\n",
       "<style scoped>\n",
       "    .dataframe tbody tr th:only-of-type {\n",
       "        vertical-align: middle;\n",
       "    }\n",
       "\n",
       "    .dataframe tbody tr th {\n",
       "        vertical-align: top;\n",
       "    }\n",
       "\n",
       "    .dataframe thead th {\n",
       "        text-align: right;\n",
       "    }\n",
       "</style>\n",
       "<table border=\"1\" class=\"dataframe\">\n",
       "  <thead>\n",
       "    <tr style=\"text-align: right;\">\n",
       "      <th></th>\n",
       "      <th>most_views_hour</th>\n",
       "      <th>total_converted</th>\n",
       "      <th>num_users</th>\n",
       "      <th>conversion_rate</th>\n",
       "    </tr>\n",
       "  </thead>\n",
       "  <tbody>\n",
       "    <tr>\n",
       "      <th>0</th>\n",
       "      <td>0</td>\n",
       "      <td>0</td>\n",
       "      <td>227</td>\n",
       "      <td>0.000</td>\n",
       "    </tr>\n",
       "    <tr>\n",
       "      <th>1</th>\n",
       "      <td>1</td>\n",
       "      <td>0</td>\n",
       "      <td>187</td>\n",
       "      <td>0.000</td>\n",
       "    </tr>\n",
       "    <tr>\n",
       "      <th>2</th>\n",
       "      <td>2</td>\n",
       "      <td>0</td>\n",
       "      <td>181</td>\n",
       "      <td>0.000</td>\n",
       "    </tr>\n",
       "    <tr>\n",
       "      <th>3</th>\n",
       "      <td>3</td>\n",
       "      <td>1</td>\n",
       "      <td>89</td>\n",
       "      <td>1.124</td>\n",
       "    </tr>\n",
       "    <tr>\n",
       "      <th>4</th>\n",
       "      <td>4</td>\n",
       "      <td>0</td>\n",
       "      <td>28</td>\n",
       "      <td>0.000</td>\n",
       "    </tr>\n",
       "    <tr>\n",
       "      <th>5</th>\n",
       "      <td>5</td>\n",
       "      <td>0</td>\n",
       "      <td>23</td>\n",
       "      <td>0.000</td>\n",
       "    </tr>\n",
       "    <tr>\n",
       "      <th>6</th>\n",
       "      <td>6</td>\n",
       "      <td>0</td>\n",
       "      <td>83</td>\n",
       "      <td>0.000</td>\n",
       "    </tr>\n",
       "    <tr>\n",
       "      <th>7</th>\n",
       "      <td>7</td>\n",
       "      <td>2</td>\n",
       "      <td>237</td>\n",
       "      <td>0.844</td>\n",
       "    </tr>\n",
       "    <tr>\n",
       "      <th>8</th>\n",
       "      <td>8</td>\n",
       "      <td>7</td>\n",
       "      <td>659</td>\n",
       "      <td>1.062</td>\n",
       "    </tr>\n",
       "    <tr>\n",
       "      <th>9</th>\n",
       "      <td>9</td>\n",
       "      <td>13</td>\n",
       "      <td>1202</td>\n",
       "      <td>1.082</td>\n",
       "    </tr>\n",
       "    <tr>\n",
       "      <th>10</th>\n",
       "      <td>10</td>\n",
       "      <td>20</td>\n",
       "      <td>1485</td>\n",
       "      <td>1.347</td>\n",
       "    </tr>\n",
       "    <tr>\n",
       "      <th>11</th>\n",
       "      <td>11</td>\n",
       "      <td>30</td>\n",
       "      <td>2061</td>\n",
       "      <td>1.456</td>\n",
       "    </tr>\n",
       "    <tr>\n",
       "      <th>12</th>\n",
       "      <td>12</td>\n",
       "      <td>35</td>\n",
       "      <td>2060</td>\n",
       "      <td>1.699</td>\n",
       "    </tr>\n",
       "    <tr>\n",
       "      <th>13</th>\n",
       "      <td>13</td>\n",
       "      <td>36</td>\n",
       "      <td>2170</td>\n",
       "      <td>1.659</td>\n",
       "    </tr>\n",
       "    <tr>\n",
       "      <th>14</th>\n",
       "      <td>14</td>\n",
       "      <td>30</td>\n",
       "      <td>1869</td>\n",
       "      <td>1.605</td>\n",
       "    </tr>\n",
       "    <tr>\n",
       "      <th>15</th>\n",
       "      <td>15</td>\n",
       "      <td>46</td>\n",
       "      <td>1828</td>\n",
       "      <td>2.516</td>\n",
       "    </tr>\n",
       "    <tr>\n",
       "      <th>16</th>\n",
       "      <td>16</td>\n",
       "      <td>45</td>\n",
       "      <td>1604</td>\n",
       "      <td>2.805</td>\n",
       "    </tr>\n",
       "    <tr>\n",
       "      <th>17</th>\n",
       "      <td>17</td>\n",
       "      <td>28</td>\n",
       "      <td>1383</td>\n",
       "      <td>2.025</td>\n",
       "    </tr>\n",
       "    <tr>\n",
       "      <th>18</th>\n",
       "      <td>18</td>\n",
       "      <td>32</td>\n",
       "      <td>1271</td>\n",
       "      <td>2.518</td>\n",
       "    </tr>\n",
       "    <tr>\n",
       "      <th>19</th>\n",
       "      <td>19</td>\n",
       "      <td>29</td>\n",
       "      <td>1183</td>\n",
       "      <td>2.451</td>\n",
       "    </tr>\n",
       "    <tr>\n",
       "      <th>20</th>\n",
       "      <td>20</td>\n",
       "      <td>19</td>\n",
       "      <td>1077</td>\n",
       "      <td>1.764</td>\n",
       "    </tr>\n",
       "    <tr>\n",
       "      <th>21</th>\n",
       "      <td>21</td>\n",
       "      <td>24</td>\n",
       "      <td>1081</td>\n",
       "      <td>2.220</td>\n",
       "    </tr>\n",
       "    <tr>\n",
       "      <th>22</th>\n",
       "      <td>22</td>\n",
       "      <td>15</td>\n",
       "      <td>917</td>\n",
       "      <td>1.636</td>\n",
       "    </tr>\n",
       "    <tr>\n",
       "      <th>23</th>\n",
       "      <td>23</td>\n",
       "      <td>8</td>\n",
       "      <td>619</td>\n",
       "      <td>1.292</td>\n",
       "    </tr>\n",
       "  </tbody>\n",
       "</table>\n",
       "</div>"
      ],
      "text/plain": [
       "    most_views_hour  total_converted  num_users  conversion_rate\n",
       "0                 0                0        227            0.000\n",
       "1                 1                0        187            0.000\n",
       "2                 2                0        181            0.000\n",
       "3                 3                1         89            1.124\n",
       "4                 4                0         28            0.000\n",
       "5                 5                0         23            0.000\n",
       "6                 6                0         83            0.000\n",
       "7                 7                2        237            0.844\n",
       "8                 8                7        659            1.062\n",
       "9                 9               13       1202            1.082\n",
       "10               10               20       1485            1.347\n",
       "11               11               30       2061            1.456\n",
       "12               12               35       2060            1.699\n",
       "13               13               36       2170            1.659\n",
       "14               14               30       1869            1.605\n",
       "15               15               46       1828            2.516\n",
       "16               16               45       1604            2.805\n",
       "17               17               28       1383            2.025\n",
       "18               18               32       1271            2.518\n",
       "19               19               29       1183            2.451\n",
       "20               20               19       1077            1.764\n",
       "21               21               24       1081            2.220\n",
       "22               22               15        917            1.636\n",
       "23               23                8        619            1.292"
      ]
     },
     "execution_count": 80,
     "metadata": {},
     "output_type": "execute_result"
    }
   ],
   "source": [
    "temp = (\n",
    "    df\n",
    "    .query(\"group == 'psa'\")\n",
    "    .groupby(\"most_views_hour\")\n",
    "    .agg(\n",
    "        total_converted=pd.NamedAgg(column=\"converted\", aggfunc=\"sum\"),\n",
    "        num_users = pd.NamedAgg(column=\"most_views_hour\", aggfunc=\"count\")\n",
    "    )\n",
    "    .reset_index()\n",
    "    .assign(conversion_rate = lambda _: round((_[\"total_converted\"] / _[\"num_users\"]) * 100, 3))\n",
    ")\n",
    "\n",
    "temp"
   ]
  },
  {
   "cell_type": "code",
   "execution_count": 81,
   "metadata": {},
   "outputs": [
    {
     "data": {
      "image/png": "[encoded data removed]",
      "text/plain": [
       "<Figure size 800x500 with 1 Axes>"
      ]
     },
     "metadata": {
      "image/png": {
       "height": 500,
       "width": 800
      },
      "needs_background": "light"
     },
     "output_type": "display_data"
    },
    {
     "data": {
      "text/plain": [
       "<Figure Size: (800 x 500)>"
      ]
     },
     "execution_count": 81,
     "metadata": {},
     "output_type": "execute_result"
    }
   ],
   "source": [
    "(\n",
    "    g.ggplot(temp, g.aes(x=\"most_views_hour\", y=\"conversion_rate\")) +\n",
    "    g.geom_col() +\n",
    "    g.scale_y_continuous(labels = lambda l: [\"{:,.0f}\".format(v) for v in l])  +\n",
    "    g.scale_x_continuous(breaks = list(range(0, 24))) +\n",
    "    g.labs(x=\"Hour\", y=\"Conversion Rate\", title = \"The Rate of Conversion by Hour of the Day (PSA)\") + \n",
    "    g.theme_minimal() +\n",
    "    g.theme(figure_size=(8, 5))\n",
    ")"
   ]
  },
  {
   "cell_type": "markdown",
   "metadata": {},
   "source": [
    "Between midnight and 2 am, as well as at 6 am (excluding 3 am), the conversion plot indicates no converted users during these hours. The exception was at 3 am, where a single user out of 3 active users converted. Subsequently, from 8 am until noon, the conversion rate consistently increased. The highest conversion rates occurred from 3 pm to 7 pm, with a notable peak at 4 pm, and 9 pm also exhibited one of the highest conversion rates during this period."
   ]
  },
  {
   "cell_type": "markdown",
   "metadata": {},
   "source": [
    "**Does the display of advertisements correlate with the number of conversion of not?**"
   ]
  },
  {
   "cell_type": "code",
   "execution_count": 10,
   "metadata": {},
   "outputs": [
    {
     "data": {
      "text/html": [
       "<div>\n",
       "<style scoped>\n",
       "    .dataframe tbody tr th:only-of-type {\n",
       "        vertical-align: middle;\n",
       "    }\n",
       "\n",
       "    .dataframe tbody tr th {\n",
       "        vertical-align: top;\n",
       "    }\n",
       "\n",
       "    .dataframe thead th {\n",
       "        text-align: right;\n",
       "    }\n",
       "</style>\n",
       "<table border=\"1\" class=\"dataframe\">\n",
       "  <thead>\n",
       "    <tr style=\"text-align: right;\">\n",
       "      <th>converted</th>\n",
       "      <th>0</th>\n",
       "      <th>1</th>\n",
       "      <th>All</th>\n",
       "    </tr>\n",
       "    <tr>\n",
       "      <th>group</th>\n",
       "      <th></th>\n",
       "      <th></th>\n",
       "      <th></th>\n",
       "    </tr>\n",
       "  </thead>\n",
       "  <tbody>\n",
       "    <tr>\n",
       "      <th>ad</th>\n",
       "      <td>550154</td>\n",
       "      <td>14423</td>\n",
       "      <td>564577</td>\n",
       "    </tr>\n",
       "    <tr>\n",
       "      <th>psa</th>\n",
       "      <td>23104</td>\n",
       "      <td>420</td>\n",
       "      <td>23524</td>\n",
       "    </tr>\n",
       "    <tr>\n",
       "      <th>All</th>\n",
       "      <td>573258</td>\n",
       "      <td>14843</td>\n",
       "      <td>588101</td>\n",
       "    </tr>\n",
       "  </tbody>\n",
       "</table>\n",
       "</div>"
      ],
      "text/plain": [
       "converted       0      1     All\n",
       "group                           \n",
       "ad         550154  14423  564577\n",
       "psa         23104    420   23524\n",
       "All        573258  14843  588101"
      ]
     },
     "execution_count": 10,
     "metadata": {},
     "output_type": "execute_result"
    }
   ],
   "source": [
    "cross_table = pd.crosstab(\n",
    "    df[\"group\"],\n",
    "    df[\"converted\"],\n",
    "    margins=True\n",
    ")\n",
    "\n",
    "cross_table"
   ]
  },
  {
   "cell_type": "markdown",
   "metadata": {},
   "source": [
    "#### Hypothesis\n",
    "\n",
    "* Null Hypothesis (H0): There is no correlation between the number of ads viewed and the conversion rate.\n",
    "* Alternative Hypothesis (Ha): There is a correlation between the number of ads viewed and the conversion rate."
   ]
  },
  {
   "cell_type": "code",
   "execution_count": 11,
   "metadata": {},
   "outputs": [
    {
     "name": "stdout",
     "output_type": "stream",
     "text": [
      "Chi-Square statistic : 54.318051591383124\n",
      "P-Value : 4.5144265218984724e-11\n",
      "Degree of Freedom : 4\n",
      "\n",
      "Expected Frequencies:\n",
      "[[550327.71899045  14249.28100955 564577.        ]\n",
      " [ 22930.28100955    593.71899045  23524.        ]\n",
      " [573258.          14843.         588101.        ]]\n"
     ]
    }
   ],
   "source": [
    "chi_sq, p_value, dof, expected = stats.chi2_contingency(cross_table)\n",
    "\n",
    "print(\"Chi-Square statistic :\", chi_sq)\n",
    "print(\"P-Value :\", p_value)\n",
    "print(\"Degree of Freedom :\", dof)\n",
    "print(\"\\nExpected Frequencies:\")\n",
    "print(expected)"
   ]
  },
  {
   "cell_type": "markdown",
   "metadata": {},
   "source": [
    "* The chi-square statistic suggest a strong association between the number of ads viewed and the conversion rate.\n",
    "* The very low p-value indicates that this association is highly unlikely to be due to random chance.\n",
    "* Based on the results, you would likely reject the null hypothesis and conclude that there is a statistically significant correlation between the number of ads viewed and the conversion rate."
   ]
  },
  {
   "cell_type": "markdown",
   "metadata": {},
   "source": [
    "## Checking for statistical significence (Mean)"
   ]
  },
  {
   "cell_type": "code",
   "execution_count": 13,
   "metadata": {},
   "outputs": [],
   "source": [
    "# Test Group \n",
    "test_group = df.query(\"group == 'ad'\")\n",
    "\n",
    "# Control Group\n",
    "control_group = df.query(\"group == 'psa'\")"
   ]
  },
  {
   "cell_type": "code",
   "execution_count": 32,
   "metadata": {},
   "outputs": [
    {
     "data": {
      "text/html": [
       "<div>\n",
       "<style scoped>\n",
       "    .dataframe tbody tr th:only-of-type {\n",
       "        vertical-align: middle;\n",
       "    }\n",
       "\n",
       "    .dataframe tbody tr th {\n",
       "        vertical-align: top;\n",
       "    }\n",
       "\n",
       "    .dataframe thead th {\n",
       "        text-align: right;\n",
       "    }\n",
       "</style>\n",
       "<table border=\"1\" class=\"dataframe\">\n",
       "  <thead>\n",
       "    <tr style=\"text-align: right;\">\n",
       "      <th></th>\n",
       "      <th>group</th>\n",
       "      <th>mean</th>\n",
       "      <th>std</th>\n",
       "    </tr>\n",
       "  </thead>\n",
       "  <tbody>\n",
       "    <tr>\n",
       "      <th>0</th>\n",
       "      <td>ad</td>\n",
       "      <td>0.025547</td>\n",
       "      <td>0.157778</td>\n",
       "    </tr>\n",
       "  </tbody>\n",
       "</table>\n",
       "</div>"
      ],
      "text/plain": [
       "  group      mean       std\n",
       "0    ad  0.025547  0.157778"
      ]
     },
     "execution_count": 32,
     "metadata": {},
     "output_type": "execute_result"
    }
   ],
   "source": [
    "(\n",
    "    test_group\n",
    "    .groupby(\"group\")[\"converted\"]\n",
    "    .agg([np.mean, np.std])\n",
    "    .reset_index()\n",
    ")"
   ]
  },
  {
   "cell_type": "code",
   "execution_count": 33,
   "metadata": {},
   "outputs": [
    {
     "data": {
      "text/html": [
       "<div>\n",
       "<style scoped>\n",
       "    .dataframe tbody tr th:only-of-type {\n",
       "        vertical-align: middle;\n",
       "    }\n",
       "\n",
       "    .dataframe tbody tr th {\n",
       "        vertical-align: top;\n",
       "    }\n",
       "\n",
       "    .dataframe thead th {\n",
       "        text-align: right;\n",
       "    }\n",
       "</style>\n",
       "<table border=\"1\" class=\"dataframe\">\n",
       "  <thead>\n",
       "    <tr style=\"text-align: right;\">\n",
       "      <th></th>\n",
       "      <th>group</th>\n",
       "      <th>mean</th>\n",
       "      <th>std</th>\n",
       "    </tr>\n",
       "  </thead>\n",
       "  <tbody>\n",
       "    <tr>\n",
       "      <th>0</th>\n",
       "      <td>psa</td>\n",
       "      <td>0.017854</td>\n",
       "      <td>0.132424</td>\n",
       "    </tr>\n",
       "  </tbody>\n",
       "</table>\n",
       "</div>"
      ],
      "text/plain": [
       "  group      mean       std\n",
       "0   psa  0.017854  0.132424"
      ]
     },
     "execution_count": 33,
     "metadata": {},
     "output_type": "execute_result"
    }
   ],
   "source": [
    "(\n",
    "    control_group\n",
    "    .groupby(\"group\")[\"converted\"]\n",
    "    .agg([np.mean, np.std])\n",
    "    .reset_index()\n",
    ")"
   ]
  },
  {
   "cell_type": "markdown",
   "metadata": {},
   "source": [
    "**`Edit`**\n",
    "\n",
    "* Users who saw the advertisement have a higher conversion on average compared to user who saw the public service announcement.\n",
    "* There is slightly more variability in the conversion rates for users who saw the advertisement. "
   ]
  },
  {
   "cell_type": "markdown",
   "metadata": {},
   "source": [
    "## Checking for statistical significence (U-test)"
   ]
  },
  {
   "cell_type": "markdown",
   "metadata": {},
   "source": [
    "##### Assumption of Normality\n",
    "\n",
    "- H0: The distribution of the test and control group conversion is `Normal`.\n",
    "- Ha: The distribution of the test and control group conversion is not `Normal`."
   ]
  },
  {
   "cell_type": "code",
   "execution_count": 14,
   "metadata": {},
   "outputs": [
    {
     "name": "stdout",
     "output_type": "stream",
     "text": [
      "p-value of Test group (Ads) : 0.0\n",
      "p-value of Control group (PSA) : 0.0\n"
     ]
    }
   ],
   "source": [
    "print(\"p-value of Test group (Ads) :\", shapiro(test_group[\"converted\"])[1])\n",
    "\n",
    "print(\"p-value of Control group (PSA) :\", shapiro(control_group[\"converted\"])[1])"
   ]
  },
  {
   "cell_type": "markdown",
   "metadata": {},
   "source": [
    "When assessing the normality assumption of the test and control group distribution, both distributions yielded p-value less than 0.05. Therefore, we will `reject the null hypothesis` that the distributions follow a normal pattern."
   ]
  },
  {
   "cell_type": "markdown",
   "metadata": {},
   "source": [
    "Since the distribution of both the test and control groups do not adhere to a normal pattern, we will opt for a non-parameteric approach, employing the Mann-Whitney U test to assess the difference in the conversation rate of the test and control groups."
   ]
  },
  {
   "cell_type": "markdown",
   "metadata": {},
   "source": [
    "### Hypothesis\n",
    "\n",
    "Since the project goal is to figure out the \n",
    "\n",
    "* `Null hypothesis (H0)`: The conversion rate of the test group (Ads) is equal to or less than the conversion rate of the control group (PSA).\n",
    "\n",
    "* `Alternative hypothesis (Ha)`: The conversion rate of the test group (Ads) is significantly greater that the conversion rate of the control group (PSA)."
   ]
  },
  {
   "cell_type": "markdown",
   "metadata": {},
   "source": [
    "##### One sided U-test\n",
    "\n",
    "As the project's objective is to assess if the advertisment leads to a significant inprovement in the conversion rate, conducting a on-tailed test would be a suitable approach."
   ]
  },
  {
   "cell_type": "code",
   "execution_count": 38,
   "metadata": {},
   "outputs": [],
   "source": [
    "u_statistic, p_value = stats.mannwhitneyu(test_group[\"converted\"], control_group[\"converted\"], alternative = \"greater\")"
   ]
  },
  {
   "cell_type": "code",
   "execution_count": 40,
   "metadata": {},
   "outputs": [
    {
     "name": "stdout",
     "output_type": "stream",
     "text": [
      "The Statistic :  6691636830.0\n",
      "The P-value:  8.526808965085939e-14\n"
     ]
    }
   ],
   "source": [
    "print(\"The Statistic : \", u_statistic)\n",
    "print(\"The P-value: \", p_value)"
   ]
  },
  {
   "cell_type": "markdown",
   "metadata": {},
   "source": [
    "* The test statistics which measures the strength and direction of the difference between the two groups suggest a substantial difference in conversion rates.\n",
    "* the very low p-value indicates that its extremely unlikely to observe this difference by random chance alone.\n",
    "\n",
    "In conclusion, since the p-value is significantly smaller than the significant level of 0.05, we can reject the null hypothesis. This means that there is strong evidence to support the alternative hypothesis, indicating that users who saw the ads have a significantly diffenent and higher conversion rate compared to those who saw the PSA.\n",
    "\n",
    "this is evidence that the advertisement has a positive impact on the conversion rate compared to  the public service announcement."
   ]
  },
  {
   "cell_type": "markdown",
   "metadata": {},
   "source": [
    "## Samples (Bootstrap)"
   ]
  },
  {
   "cell_type": "markdown",
   "metadata": {},
   "source": [
    "Evidently, there is a substantial disparity in the sample size between the group exposed to the advertisement, comprising 96% of the total, and the group that viewed the PSA, which consitutes a mere 4%. When there is such an imbalance in sample size between experimental and control groups, it can potentially introduce several statistical analysis challenges. These imbalanced sample sizes can impact the statistical power of the analysis and the precision of the estimates. Specifically, the group with the larger sample size is likely to yield more precise estimates compared to the group with the smaller sample size. Therefore, in this scenario, it becomes crucial to consider strategies with approprate statistical techniques capable of addressing imbalanced sample size, including weighted analysis or resampling methods like bootstrapping."
   ]
  },
  {
   "cell_type": "code",
   "execution_count": 41,
   "metadata": {},
   "outputs": [],
   "source": [
    "boot_df = pd.DataFrame()"
   ]
  },
  {
   "cell_type": "code",
   "execution_count": 43,
   "metadata": {},
   "outputs": [],
   "source": [
    "boot_ads = []\n",
    "\n",
    "for i in range(1000):\n",
    "    boot_mean = test_group.sample(frac=1, replace=True)[\"converted\"].mean()\n",
    "\n",
    "    boot_ads.append(boot_mean)\n",
    "\n",
    "\n",
    "boot_df[\"ads_converted\"] = boot_ads"
   ]
  },
  {
   "cell_type": "code",
   "execution_count": 46,
   "metadata": {},
   "outputs": [],
   "source": [
    "boot_psa = []\n",
    "\n",
    "for i in range(1000):\n",
    "    boot_mean = control_group.sample(frac=1, replace=True)[\"converted\"].mean()\n",
    "\n",
    "    boot_psa.append(boot_mean)\n",
    "\n",
    "\n",
    "boot_df[\"psa_converted\"] = boot_psa"
   ]
  },
  {
   "cell_type": "code",
   "execution_count": 49,
   "metadata": {},
   "outputs": [
    {
     "data": {
      "text/html": [
       "<div>\n",
       "<style scoped>\n",
       "    .dataframe tbody tr th:only-of-type {\n",
       "        vertical-align: middle;\n",
       "    }\n",
       "\n",
       "    .dataframe tbody tr th {\n",
       "        vertical-align: top;\n",
       "    }\n",
       "\n",
       "    .dataframe thead th {\n",
       "        text-align: right;\n",
       "    }\n",
       "</style>\n",
       "<table border=\"1\" class=\"dataframe\">\n",
       "  <thead>\n",
       "    <tr style=\"text-align: right;\">\n",
       "      <th></th>\n",
       "      <th>ads_converted</th>\n",
       "      <th>psa_converted</th>\n",
       "    </tr>\n",
       "  </thead>\n",
       "  <tbody>\n",
       "    <tr>\n",
       "      <th>0</th>\n",
       "      <td>0.025626</td>\n",
       "      <td>0.015899</td>\n",
       "    </tr>\n",
       "    <tr>\n",
       "      <th>1</th>\n",
       "      <td>0.025499</td>\n",
       "      <td>0.019257</td>\n",
       "    </tr>\n",
       "    <tr>\n",
       "      <th>2</th>\n",
       "      <td>0.025292</td>\n",
       "      <td>0.017259</td>\n",
       "    </tr>\n",
       "    <tr>\n",
       "      <th>3</th>\n",
       "      <td>0.025463</td>\n",
       "      <td>0.017642</td>\n",
       "    </tr>\n",
       "    <tr>\n",
       "      <th>4</th>\n",
       "      <td>0.025554</td>\n",
       "      <td>0.017301</td>\n",
       "    </tr>\n",
       "  </tbody>\n",
       "</table>\n",
       "</div>"
      ],
      "text/plain": [
       "   ads_converted  psa_converted\n",
       "0       0.025626       0.015899\n",
       "1       0.025499       0.019257\n",
       "2       0.025292       0.017259\n",
       "3       0.025463       0.017642\n",
       "4       0.025554       0.017301"
      ]
     },
     "execution_count": 49,
     "metadata": {},
     "output_type": "execute_result"
    }
   ],
   "source": [
    "boot_df.head()"
   ]
  },
  {
   "cell_type": "code",
   "execution_count": 51,
   "metadata": {},
   "outputs": [
    {
     "data": {
      "image/png": "[encoded data removed]",
      "text/plain": [
       "<Figure size 800x500 with 1 Axes>"
      ]
     },
     "metadata": {
      "image/png": {
       "height": 500,
       "width": 800
      },
      "needs_background": "light"
     },
     "output_type": "display_data"
    },
    {
     "data": {
      "text/plain": [
       "<Figure Size: (800 x 500)>"
      ]
     },
     "execution_count": 51,
     "metadata": {},
     "output_type": "execute_result"
    }
   ],
   "source": [
    "(\n",
    "    g.ggplot(boot_df, g.aes(x='ads_converted')) +\n",
    "    g.geom_density() +\n",
    "    g.labs(\n",
    "        x=\"conversion rate\",\n",
    "        y=\"Density\",\n",
    "        title=\"Density of Average conversions for Test Group (Ads)\"\n",
    "    ) +\n",
    "    g.scale_y_continuous(labels = lambda l: [\"{:,.0f}\".format(v) for v in l]) +\n",
    "    g.theme_minimal() +\n",
    "    g.theme(figure_size=(8, 5))\n",
    ")"
   ]
  },
  {
   "cell_type": "code",
   "execution_count": 52,
   "metadata": {},
   "outputs": [
    {
     "data": {
      "text/plain": [
       "ShapiroResult(statistic=0.9982064962387085, pvalue=0.38011378049850464)"
      ]
     },
     "execution_count": 52,
     "metadata": {},
     "output_type": "execute_result"
    }
   ],
   "source": [
    "shapiro(boot_df[\"ads_converted\"])"
   ]
  },
  {
   "cell_type": "markdown",
   "metadata": {},
   "source": [
    "The p-value of `~0.380` (> 0.05 significant level) suggest that the sample distribution is normal and we will not reject the null hypothesis."
   ]
  },
  {
   "cell_type": "code",
   "execution_count": 53,
   "metadata": {},
   "outputs": [
    {
     "data": {
      "image/png": "[encoded data removed]",
      "text/plain": [
       "<Figure size 800x500 with 1 Axes>"
      ]
     },
     "metadata": {
      "image/png": {
       "height": 500,
       "width": 800
      },
      "needs_background": "light"
     },
     "output_type": "display_data"
    },
    {
     "data": {
      "text/plain": [
       "<Figure Size: (800 x 500)>"
      ]
     },
     "execution_count": 53,
     "metadata": {},
     "output_type": "execute_result"
    }
   ],
   "source": [
    "(\n",
    "    g.ggplot(boot_df, g.aes(x='psa_converted')) +\n",
    "    g.geom_density() +\n",
    "    g.labs(\n",
    "        x=\"conversion rate\",\n",
    "        y=\"Density\",\n",
    "        title=\"Density of Average conversions for Control Group (PSA)\"\n",
    "    ) +\n",
    "    g.scale_y_continuous(labels = lambda l: [\"{:,.0f}\".format(v) for v in l]) +\n",
    "    g.theme_minimal() +\n",
    "    g.theme(figure_size=(8, 5))\n",
    ")"
   ]
  },
  {
   "cell_type": "code",
   "execution_count": 54,
   "metadata": {},
   "outputs": [
    {
     "data": {
      "text/plain": [
       "ShapiroResult(statistic=0.9989401698112488, pvalue=0.8407437205314636)"
      ]
     },
     "execution_count": 54,
     "metadata": {},
     "output_type": "execute_result"
    }
   ],
   "source": [
    "shapiro(boot_df[\"psa_converted\"])"
   ]
  },
  {
   "cell_type": "markdown",
   "metadata": {},
   "source": [
    "Just like the samples for the test group, the p-value of `~0.841` (> 0.05 significant level) suggest that the sample distribution is normal and we will not reject the null hypothesis. (This allows for the application of statistical tests and confidence intervals that rely on the assumption of normality)."
   ]
  },
  {
   "cell_type": "code",
   "execution_count": 55,
   "metadata": {},
   "outputs": [
    {
     "name": "stdout",
     "output_type": "stream",
     "text": [
      "T-statistic: 264.89026310479414\n",
      "P-value: 0.0\n"
     ]
    }
   ],
   "source": [
    "t_stat, p_value = stats.ttest_ind(\n",
    "    boot_df[\"ads_converted\"], \n",
    "    boot_df[\"psa_converted\"], \n",
    "    alternative=\"greater\", \n",
    "    equal_var=False\n",
    ")\n",
    "\n",
    "print(\"T-statistic:\", t_stat)\n",
    "print(\"P-value:\", p_value)"
   ]
  },
  {
   "cell_type": "markdown",
   "metadata": {},
   "source": [
    "The `T-statistic` of **~264.89** which serves as indicator of the magnitude of the difference between the test and control groups is high enough, indicating a subtantial difference between the groups. While the `p-value` which is < 0.05 (significate level), is exceptionally low small, signifying an extremely low likelihood of observing this level of difference by random chance alone."
   ]
  },
  {
   "cell_type": "markdown",
   "metadata": {},
   "source": [
    "## Evaluation"
   ]
  },
  {
   "cell_type": "markdown",
   "metadata": {},
   "source": [
    "Base on the results:\n",
    "\n",
    "* Since the `p-value` is significantly less than the chosen significance level (0.05), the Null hypothesis is decisively rejected.\n",
    "* This provides strong evidence in favor of the alternative hypothesis, indicating that there is a statistically significant difference between the test groups and the control group being compared.\n",
    "\n",
    "In summary, the t-test results reveal a statistically significant difference between the test (users with Ads views) and control group (user with PSA views), with the t-statistic and p-value pointing to a subtantial distinction. This indicates that the advertisement has a significant impact on the conversion rate compared to the public service announcement."
   ]
  },
  {
   "cell_type": "markdown",
   "metadata": {},
   "source": [
    "## Recommendation"
   ]
  },
  {
   "cell_type": "markdown",
   "metadata": {},
   "source": [
    "\n",
    "Following the evaluation of the significance indicating a higher conversion rate for the ads, here are three key recommendations:\n",
    "\n",
    "**Optimize Ad Placement Strategy:**\n",
    "\n",
    "The analysis indicates that the advertisement significantly outperforms the PSA in terms of conversion rate. To maximize this advantage, the company should consider strategic placement of ads during peak user engagement periods, based on the insights gathered regarding daily and hourly views. By aligning ad exposure with when users are most active, the company can enhance the chances of conversions and improve ROI.\n",
    "\n",
    "**Segmentation for Targeted Marketing:**\n",
    "\n",
    "Identify user groups that responded exceptionally well to the ads and tailor marketing strategies specifically for them. Understanding the demographics and behaviors of these high-conversion groups can help refine the message and target, thus boosting conversion rates.\n",
    "\n",
    "**Continuous Monitoring and Adaptation:**\n",
    "\n",
    "While the analysis provides compelling evidence of the ads' positive impact, to maintain and build upon these gains, it's crucial for the company to implement continuous monitoring of user behavior and adapt marketing strategies accordingly. Stay agile in responding to changing trends, user preferences, and competition to ensure sustained growth in conversion rates.\n",
    "\n",
    "By implementing these recommendations, the company can not only capitalize on the current success of its advertising efforts but also lay the foundation for ongoing improvements and enhanced conversion rates. By implementing these recommendations, success in the advertising efforts can be capitalized and proper foundation layed for ongoing improvements and enhanced conversion rates."
   ]
  }
 ],
 "metadata": {
  "kernelspec": {
   "display_name": ".venv",
   "language": "python",
   "name": "python3"
  },
  "language_info": {
   "codemirror_mode": {
    "name": "ipython",
    "version": 3
   },
   "file_extension": ".py",
   "mimetype": "text/x-python",
   "name": "python",
   "nbconvert_exporter": "python",
   "pygments_lexer": "ipython3",
   "version": "3.10.4"
  },
  "orig_nbformat": 4
 },
 "nbformat": 4,
 "nbformat_minor": 2
}
